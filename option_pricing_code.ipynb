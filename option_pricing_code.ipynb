{
  "nbformat": 4,
  "nbformat_minor": 0,
  "metadata": {
    "colab": {
      "provenance": []
    },
    "kernelspec": {
      "name": "python3",
      "display_name": "Python 3"
    },
    "language_info": {
      "name": "python"
    }
  },
  "cells": [
    {
      "cell_type": "markdown",
      "source": [
        "**Exploratory Analysis**"
      ],
      "metadata": {
        "id": "ElYqvdfxmXJ-"
      }
    },
    {
      "cell_type": "code",
      "execution_count": null,
      "metadata": {
        "id": "4vPQX9b5yLGr"
      },
      "outputs": [],
      "source": [
        "import numpy as np\n",
        "import pandas as pd\n",
        "import matplotlib.pyplot as plt\n",
        "import seaborn as sns\n",
        "from scipy import stats"
      ]
    },
    {
      "cell_type": "code",
      "source": [
        "train_data = pd.read_csv('option_train.csv', index_col=0)"
      ],
      "metadata": {
        "id": "9Wq18oo63q9t"
      },
      "execution_count": null,
      "outputs": []
    },
    {
      "cell_type": "code",
      "source": [
        "test_data = pd.read_csv('option_test_nolabel.csv', index_col=0)"
      ],
      "metadata": {
        "id": "vC2iw2CB9ntj"
      },
      "execution_count": null,
      "outputs": []
    },
    {
      "cell_type": "code",
      "source": [
        "train_data"
      ],
      "metadata": {
        "colab": {
          "base_uri": "https://localhost:8080/",
          "height": 424
        },
        "id": "z6totNRj3zoY",
        "outputId": "a11eca71-d576-4762-c3ad-c15a0d9f3493"
      },
      "execution_count": null,
      "outputs": [
        {
          "output_type": "execute_result",
          "data": {
            "text/plain": [
              "        Value        S     K       tau       r     BS\n",
              "1     348.500  1394.46  1050  0.128767  0.0116  Under\n",
              "2     149.375  1432.25  1400  0.679452  0.0113  Under\n",
              "3     294.500  1478.90  1225  0.443836  0.0112  Under\n",
              "4       3.375  1369.89  1500  0.117808  0.0119   Over\n",
              "5      84.000  1366.42  1350  0.298630  0.0119  Under\n",
              "...       ...      ...   ...       ...     ...    ...\n",
              "4996  325.250  1465.15  1175  0.424658  0.0111  Under\n",
              "4997   36.000  1480.87  1480  0.101370  0.0111   Over\n",
              "4998   90.000  1356.56  1500  0.673973  0.0120  Under\n",
              "4999  175.875  1333.36  1200  0.309589  0.0122  Under\n",
              "5000  106.375  1480.87  1475  0.504110  0.0111  Under\n",
              "\n",
              "[5000 rows x 6 columns]"
            ],
            "text/html": [
              "\n",
              "  <div id=\"df-f1511956-9f44-45e2-a81d-fa2d724e1965\" class=\"colab-df-container\">\n",
              "    <div>\n",
              "<style scoped>\n",
              "    .dataframe tbody tr th:only-of-type {\n",
              "        vertical-align: middle;\n",
              "    }\n",
              "\n",
              "    .dataframe tbody tr th {\n",
              "        vertical-align: top;\n",
              "    }\n",
              "\n",
              "    .dataframe thead th {\n",
              "        text-align: right;\n",
              "    }\n",
              "</style>\n",
              "<table border=\"1\" class=\"dataframe\">\n",
              "  <thead>\n",
              "    <tr style=\"text-align: right;\">\n",
              "      <th></th>\n",
              "      <th>Value</th>\n",
              "      <th>S</th>\n",
              "      <th>K</th>\n",
              "      <th>tau</th>\n",
              "      <th>r</th>\n",
              "      <th>BS</th>\n",
              "    </tr>\n",
              "  </thead>\n",
              "  <tbody>\n",
              "    <tr>\n",
              "      <th>1</th>\n",
              "      <td>348.500</td>\n",
              "      <td>1394.46</td>\n",
              "      <td>1050</td>\n",
              "      <td>0.128767</td>\n",
              "      <td>0.0116</td>\n",
              "      <td>Under</td>\n",
              "    </tr>\n",
              "    <tr>\n",
              "      <th>2</th>\n",
              "      <td>149.375</td>\n",
              "      <td>1432.25</td>\n",
              "      <td>1400</td>\n",
              "      <td>0.679452</td>\n",
              "      <td>0.0113</td>\n",
              "      <td>Under</td>\n",
              "    </tr>\n",
              "    <tr>\n",
              "      <th>3</th>\n",
              "      <td>294.500</td>\n",
              "      <td>1478.90</td>\n",
              "      <td>1225</td>\n",
              "      <td>0.443836</td>\n",
              "      <td>0.0112</td>\n",
              "      <td>Under</td>\n",
              "    </tr>\n",
              "    <tr>\n",
              "      <th>4</th>\n",
              "      <td>3.375</td>\n",
              "      <td>1369.89</td>\n",
              "      <td>1500</td>\n",
              "      <td>0.117808</td>\n",
              "      <td>0.0119</td>\n",
              "      <td>Over</td>\n",
              "    </tr>\n",
              "    <tr>\n",
              "      <th>5</th>\n",
              "      <td>84.000</td>\n",
              "      <td>1366.42</td>\n",
              "      <td>1350</td>\n",
              "      <td>0.298630</td>\n",
              "      <td>0.0119</td>\n",
              "      <td>Under</td>\n",
              "    </tr>\n",
              "    <tr>\n",
              "      <th>...</th>\n",
              "      <td>...</td>\n",
              "      <td>...</td>\n",
              "      <td>...</td>\n",
              "      <td>...</td>\n",
              "      <td>...</td>\n",
              "      <td>...</td>\n",
              "    </tr>\n",
              "    <tr>\n",
              "      <th>4996</th>\n",
              "      <td>325.250</td>\n",
              "      <td>1465.15</td>\n",
              "      <td>1175</td>\n",
              "      <td>0.424658</td>\n",
              "      <td>0.0111</td>\n",
              "      <td>Under</td>\n",
              "    </tr>\n",
              "    <tr>\n",
              "      <th>4997</th>\n",
              "      <td>36.000</td>\n",
              "      <td>1480.87</td>\n",
              "      <td>1480</td>\n",
              "      <td>0.101370</td>\n",
              "      <td>0.0111</td>\n",
              "      <td>Over</td>\n",
              "    </tr>\n",
              "    <tr>\n",
              "      <th>4998</th>\n",
              "      <td>90.000</td>\n",
              "      <td>1356.56</td>\n",
              "      <td>1500</td>\n",
              "      <td>0.673973</td>\n",
              "      <td>0.0120</td>\n",
              "      <td>Under</td>\n",
              "    </tr>\n",
              "    <tr>\n",
              "      <th>4999</th>\n",
              "      <td>175.875</td>\n",
              "      <td>1333.36</td>\n",
              "      <td>1200</td>\n",
              "      <td>0.309589</td>\n",
              "      <td>0.0122</td>\n",
              "      <td>Under</td>\n",
              "    </tr>\n",
              "    <tr>\n",
              "      <th>5000</th>\n",
              "      <td>106.375</td>\n",
              "      <td>1480.87</td>\n",
              "      <td>1475</td>\n",
              "      <td>0.504110</td>\n",
              "      <td>0.0111</td>\n",
              "      <td>Under</td>\n",
              "    </tr>\n",
              "  </tbody>\n",
              "</table>\n",
              "<p>5000 rows × 6 columns</p>\n",
              "</div>\n",
              "    <div class=\"colab-df-buttons\">\n",
              "\n",
              "  <div class=\"colab-df-container\">\n",
              "    <button class=\"colab-df-convert\" onclick=\"convertToInteractive('df-f1511956-9f44-45e2-a81d-fa2d724e1965')\"\n",
              "            title=\"Convert this dataframe to an interactive table.\"\n",
              "            style=\"display:none;\">\n",
              "\n",
              "  <svg xmlns=\"http://www.w3.org/2000/svg\" height=\"24px\" viewBox=\"0 -960 960 960\">\n",
              "    <path d=\"M120-120v-720h720v720H120Zm60-500h600v-160H180v160Zm220 220h160v-160H400v160Zm0 220h160v-160H400v160ZM180-400h160v-160H180v160Zm440 0h160v-160H620v160ZM180-180h160v-160H180v160Zm440 0h160v-160H620v160Z\"/>\n",
              "  </svg>\n",
              "    </button>\n",
              "\n",
              "  <style>\n",
              "    .colab-df-container {\n",
              "      display:flex;\n",
              "      gap: 12px;\n",
              "    }\n",
              "\n",
              "    .colab-df-convert {\n",
              "      background-color: #E8F0FE;\n",
              "      border: none;\n",
              "      border-radius: 50%;\n",
              "      cursor: pointer;\n",
              "      display: none;\n",
              "      fill: #1967D2;\n",
              "      height: 32px;\n",
              "      padding: 0 0 0 0;\n",
              "      width: 32px;\n",
              "    }\n",
              "\n",
              "    .colab-df-convert:hover {\n",
              "      background-color: #E2EBFA;\n",
              "      box-shadow: 0px 1px 2px rgba(60, 64, 67, 0.3), 0px 1px 3px 1px rgba(60, 64, 67, 0.15);\n",
              "      fill: #174EA6;\n",
              "    }\n",
              "\n",
              "    .colab-df-buttons div {\n",
              "      margin-bottom: 4px;\n",
              "    }\n",
              "\n",
              "    [theme=dark] .colab-df-convert {\n",
              "      background-color: #3B4455;\n",
              "      fill: #D2E3FC;\n",
              "    }\n",
              "\n",
              "    [theme=dark] .colab-df-convert:hover {\n",
              "      background-color: #434B5C;\n",
              "      box-shadow: 0px 1px 3px 1px rgba(0, 0, 0, 0.15);\n",
              "      filter: drop-shadow(0px 1px 2px rgba(0, 0, 0, 0.3));\n",
              "      fill: #FFFFFF;\n",
              "    }\n",
              "  </style>\n",
              "\n",
              "    <script>\n",
              "      const buttonEl =\n",
              "        document.querySelector('#df-f1511956-9f44-45e2-a81d-fa2d724e1965 button.colab-df-convert');\n",
              "      buttonEl.style.display =\n",
              "        google.colab.kernel.accessAllowed ? 'block' : 'none';\n",
              "\n",
              "      async function convertToInteractive(key) {\n",
              "        const element = document.querySelector('#df-f1511956-9f44-45e2-a81d-fa2d724e1965');\n",
              "        const dataTable =\n",
              "          await google.colab.kernel.invokeFunction('convertToInteractive',\n",
              "                                                    [key], {});\n",
              "        if (!dataTable) return;\n",
              "\n",
              "        const docLinkHtml = 'Like what you see? Visit the ' +\n",
              "          '<a target=\"_blank\" href=https://colab.research.google.com/notebooks/data_table.ipynb>data table notebook</a>'\n",
              "          + ' to learn more about interactive tables.';\n",
              "        element.innerHTML = '';\n",
              "        dataTable['output_type'] = 'display_data';\n",
              "        await google.colab.output.renderOutput(dataTable, element);\n",
              "        const docLink = document.createElement('div');\n",
              "        docLink.innerHTML = docLinkHtml;\n",
              "        element.appendChild(docLink);\n",
              "      }\n",
              "    </script>\n",
              "  </div>\n",
              "\n",
              "\n",
              "<div id=\"df-eb53013f-4ae2-4dbf-8f51-fcbb4a0d5582\">\n",
              "  <button class=\"colab-df-quickchart\" onclick=\"quickchart('df-eb53013f-4ae2-4dbf-8f51-fcbb4a0d5582')\"\n",
              "            title=\"Suggest charts\"\n",
              "            style=\"display:none;\">\n",
              "\n",
              "<svg xmlns=\"http://www.w3.org/2000/svg\" height=\"24px\"viewBox=\"0 0 24 24\"\n",
              "     width=\"24px\">\n",
              "    <g>\n",
              "        <path d=\"M19 3H5c-1.1 0-2 .9-2 2v14c0 1.1.9 2 2 2h14c1.1 0 2-.9 2-2V5c0-1.1-.9-2-2-2zM9 17H7v-7h2v7zm4 0h-2V7h2v10zm4 0h-2v-4h2v4z\"/>\n",
              "    </g>\n",
              "</svg>\n",
              "  </button>\n",
              "\n",
              "<style>\n",
              "  .colab-df-quickchart {\n",
              "      --bg-color: #E8F0FE;\n",
              "      --fill-color: #1967D2;\n",
              "      --hover-bg-color: #E2EBFA;\n",
              "      --hover-fill-color: #174EA6;\n",
              "      --disabled-fill-color: #AAA;\n",
              "      --disabled-bg-color: #DDD;\n",
              "  }\n",
              "\n",
              "  [theme=dark] .colab-df-quickchart {\n",
              "      --bg-color: #3B4455;\n",
              "      --fill-color: #D2E3FC;\n",
              "      --hover-bg-color: #434B5C;\n",
              "      --hover-fill-color: #FFFFFF;\n",
              "      --disabled-bg-color: #3B4455;\n",
              "      --disabled-fill-color: #666;\n",
              "  }\n",
              "\n",
              "  .colab-df-quickchart {\n",
              "    background-color: var(--bg-color);\n",
              "    border: none;\n",
              "    border-radius: 50%;\n",
              "    cursor: pointer;\n",
              "    display: none;\n",
              "    fill: var(--fill-color);\n",
              "    height: 32px;\n",
              "    padding: 0;\n",
              "    width: 32px;\n",
              "  }\n",
              "\n",
              "  .colab-df-quickchart:hover {\n",
              "    background-color: var(--hover-bg-color);\n",
              "    box-shadow: 0 1px 2px rgba(60, 64, 67, 0.3), 0 1px 3px 1px rgba(60, 64, 67, 0.15);\n",
              "    fill: var(--button-hover-fill-color);\n",
              "  }\n",
              "\n",
              "  .colab-df-quickchart-complete:disabled,\n",
              "  .colab-df-quickchart-complete:disabled:hover {\n",
              "    background-color: var(--disabled-bg-color);\n",
              "    fill: var(--disabled-fill-color);\n",
              "    box-shadow: none;\n",
              "  }\n",
              "\n",
              "  .colab-df-spinner {\n",
              "    border: 2px solid var(--fill-color);\n",
              "    border-color: transparent;\n",
              "    border-bottom-color: var(--fill-color);\n",
              "    animation:\n",
              "      spin 1s steps(1) infinite;\n",
              "  }\n",
              "\n",
              "  @keyframes spin {\n",
              "    0% {\n",
              "      border-color: transparent;\n",
              "      border-bottom-color: var(--fill-color);\n",
              "      border-left-color: var(--fill-color);\n",
              "    }\n",
              "    20% {\n",
              "      border-color: transparent;\n",
              "      border-left-color: var(--fill-color);\n",
              "      border-top-color: var(--fill-color);\n",
              "    }\n",
              "    30% {\n",
              "      border-color: transparent;\n",
              "      border-left-color: var(--fill-color);\n",
              "      border-top-color: var(--fill-color);\n",
              "      border-right-color: var(--fill-color);\n",
              "    }\n",
              "    40% {\n",
              "      border-color: transparent;\n",
              "      border-right-color: var(--fill-color);\n",
              "      border-top-color: var(--fill-color);\n",
              "    }\n",
              "    60% {\n",
              "      border-color: transparent;\n",
              "      border-right-color: var(--fill-color);\n",
              "    }\n",
              "    80% {\n",
              "      border-color: transparent;\n",
              "      border-right-color: var(--fill-color);\n",
              "      border-bottom-color: var(--fill-color);\n",
              "    }\n",
              "    90% {\n",
              "      border-color: transparent;\n",
              "      border-bottom-color: var(--fill-color);\n",
              "    }\n",
              "  }\n",
              "</style>\n",
              "\n",
              "  <script>\n",
              "    async function quickchart(key) {\n",
              "      const quickchartButtonEl =\n",
              "        document.querySelector('#' + key + ' button');\n",
              "      quickchartButtonEl.disabled = true;  // To prevent multiple clicks.\n",
              "      quickchartButtonEl.classList.add('colab-df-spinner');\n",
              "      try {\n",
              "        const charts = await google.colab.kernel.invokeFunction(\n",
              "            'suggestCharts', [key], {});\n",
              "      } catch (error) {\n",
              "        console.error('Error during call to suggestCharts:', error);\n",
              "      }\n",
              "      quickchartButtonEl.classList.remove('colab-df-spinner');\n",
              "      quickchartButtonEl.classList.add('colab-df-quickchart-complete');\n",
              "    }\n",
              "    (() => {\n",
              "      let quickchartButtonEl =\n",
              "        document.querySelector('#df-eb53013f-4ae2-4dbf-8f51-fcbb4a0d5582 button');\n",
              "      quickchartButtonEl.style.display =\n",
              "        google.colab.kernel.accessAllowed ? 'block' : 'none';\n",
              "    })();\n",
              "  </script>\n",
              "</div>\n",
              "    </div>\n",
              "  </div>\n"
            ],
            "application/vnd.google.colaboratory.intrinsic+json": {
              "type": "dataframe",
              "variable_name": "train_data",
              "summary": "{\n  \"name\": \"train_data\",\n  \"rows\": 5000,\n  \"fields\": [\n    {\n      \"column\": \"Value\",\n      \"properties\": {\n        \"dtype\": \"number\",\n        \"std\": 125.15500007326867,\n        \"min\": 0.28125,\n        \"max\": 685.5,\n        \"num_unique_values\": 2001,\n        \"samples\": [\n          229.125,\n          86.0,\n          347.375\n        ],\n        \"semantic_type\": \"\",\n        \"description\": \"\"\n      }\n    },\n    {\n      \"column\": \"S\",\n      \"properties\": {\n        \"dtype\": \"number\",\n        \"std\": 56.05152255114043,\n        \"min\": 1264.74,\n        \"max\": 1527.46,\n        \"num_unique_values\": 250,\n        \"samples\": [\n          1455.14,\n          1445.57,\n          1400.14\n        ],\n        \"semantic_type\": \"\",\n        \"description\": \"\"\n      }\n    },\n    {\n      \"column\": \"K\",\n      \"properties\": {\n        \"dtype\": \"number\",\n        \"std\": 172,\n        \"min\": 750,\n        \"max\": 1995,\n        \"num_unique_values\": 73,\n        \"samples\": [\n          1350,\n          1360,\n          1550\n        ],\n        \"semantic_type\": \"\",\n        \"description\": \"\"\n      }\n    },\n    {\n      \"column\": \"tau\",\n      \"properties\": {\n        \"dtype\": \"number\",\n        \"std\": 0.23118440981502342,\n        \"min\": 0.0849315068493151,\n        \"max\": 0.989041095890411,\n        \"num_unique_values\": 237,\n        \"samples\": [\n          0.931506849315068,\n          0.175342465753425,\n          0.654794520547945\n        ],\n        \"semantic_type\": \"\",\n        \"description\": \"\"\n      }\n    },\n    {\n      \"column\": \"r\",\n      \"properties\": {\n        \"dtype\": \"number\",\n        \"std\": 0.0004483820349767127,\n        \"min\": 0.0106,\n        \"max\": 0.0129,\n        \"num_unique_values\": 22,\n        \"samples\": [\n          0.0116,\n          0.0118,\n          0.0109\n        ],\n        \"semantic_type\": \"\",\n        \"description\": \"\"\n      }\n    },\n    {\n      \"column\": \"BS\",\n      \"properties\": {\n        \"dtype\": \"category\",\n        \"num_unique_values\": 2,\n        \"samples\": [\n          \"Over\",\n          \"Under\"\n        ],\n        \"semantic_type\": \"\",\n        \"description\": \"\"\n      }\n    }\n  ]\n}"
            }
          },
          "metadata": {},
          "execution_count": 122
        }
      ]
    },
    {
      "cell_type": "code",
      "source": [
        "test_data"
      ],
      "metadata": {
        "colab": {
          "base_uri": "https://localhost:8080/",
          "height": 424
        },
        "id": "SM6J3VbD9vmD",
        "outputId": "396ca9e9-52b1-445d-bce7-d0cc8f31e53b"
      },
      "execution_count": null,
      "outputs": [
        {
          "output_type": "execute_result",
          "data": {
            "text/plain": [
              "           S     K       tau       r\n",
              "1    1409.28  1325  0.126027  0.0115\n",
              "2    1505.97  1100  0.315068  0.0110\n",
              "3    1409.57  1450  0.197260  0.0116\n",
              "4    1407.81  1250  0.101370  0.0116\n",
              "5    1494.50  1300  0.194521  0.0110\n",
              "..       ...   ...       ...     ...\n",
              "496  1514.09  1200  0.301370  0.0109\n",
              "497  1359.15  1500  0.260274  0.0119\n",
              "498  1396.93  1410  0.156164  0.0117\n",
              "499  1436.51  1475  0.463014  0.0114\n",
              "500  1264.74  1100  0.238356  0.0129\n",
              "\n",
              "[500 rows x 4 columns]"
            ],
            "text/html": [
              "\n",
              "  <div id=\"df-cda51f62-ce69-465a-a246-da0095a80100\" class=\"colab-df-container\">\n",
              "    <div>\n",
              "<style scoped>\n",
              "    .dataframe tbody tr th:only-of-type {\n",
              "        vertical-align: middle;\n",
              "    }\n",
              "\n",
              "    .dataframe tbody tr th {\n",
              "        vertical-align: top;\n",
              "    }\n",
              "\n",
              "    .dataframe thead th {\n",
              "        text-align: right;\n",
              "    }\n",
              "</style>\n",
              "<table border=\"1\" class=\"dataframe\">\n",
              "  <thead>\n",
              "    <tr style=\"text-align: right;\">\n",
              "      <th></th>\n",
              "      <th>S</th>\n",
              "      <th>K</th>\n",
              "      <th>tau</th>\n",
              "      <th>r</th>\n",
              "    </tr>\n",
              "  </thead>\n",
              "  <tbody>\n",
              "    <tr>\n",
              "      <th>1</th>\n",
              "      <td>1409.28</td>\n",
              "      <td>1325</td>\n",
              "      <td>0.126027</td>\n",
              "      <td>0.0115</td>\n",
              "    </tr>\n",
              "    <tr>\n",
              "      <th>2</th>\n",
              "      <td>1505.97</td>\n",
              "      <td>1100</td>\n",
              "      <td>0.315068</td>\n",
              "      <td>0.0110</td>\n",
              "    </tr>\n",
              "    <tr>\n",
              "      <th>3</th>\n",
              "      <td>1409.57</td>\n",
              "      <td>1450</td>\n",
              "      <td>0.197260</td>\n",
              "      <td>0.0116</td>\n",
              "    </tr>\n",
              "    <tr>\n",
              "      <th>4</th>\n",
              "      <td>1407.81</td>\n",
              "      <td>1250</td>\n",
              "      <td>0.101370</td>\n",
              "      <td>0.0116</td>\n",
              "    </tr>\n",
              "    <tr>\n",
              "      <th>5</th>\n",
              "      <td>1494.50</td>\n",
              "      <td>1300</td>\n",
              "      <td>0.194521</td>\n",
              "      <td>0.0110</td>\n",
              "    </tr>\n",
              "    <tr>\n",
              "      <th>...</th>\n",
              "      <td>...</td>\n",
              "      <td>...</td>\n",
              "      <td>...</td>\n",
              "      <td>...</td>\n",
              "    </tr>\n",
              "    <tr>\n",
              "      <th>496</th>\n",
              "      <td>1514.09</td>\n",
              "      <td>1200</td>\n",
              "      <td>0.301370</td>\n",
              "      <td>0.0109</td>\n",
              "    </tr>\n",
              "    <tr>\n",
              "      <th>497</th>\n",
              "      <td>1359.15</td>\n",
              "      <td>1500</td>\n",
              "      <td>0.260274</td>\n",
              "      <td>0.0119</td>\n",
              "    </tr>\n",
              "    <tr>\n",
              "      <th>498</th>\n",
              "      <td>1396.93</td>\n",
              "      <td>1410</td>\n",
              "      <td>0.156164</td>\n",
              "      <td>0.0117</td>\n",
              "    </tr>\n",
              "    <tr>\n",
              "      <th>499</th>\n",
              "      <td>1436.51</td>\n",
              "      <td>1475</td>\n",
              "      <td>0.463014</td>\n",
              "      <td>0.0114</td>\n",
              "    </tr>\n",
              "    <tr>\n",
              "      <th>500</th>\n",
              "      <td>1264.74</td>\n",
              "      <td>1100</td>\n",
              "      <td>0.238356</td>\n",
              "      <td>0.0129</td>\n",
              "    </tr>\n",
              "  </tbody>\n",
              "</table>\n",
              "<p>500 rows × 4 columns</p>\n",
              "</div>\n",
              "    <div class=\"colab-df-buttons\">\n",
              "\n",
              "  <div class=\"colab-df-container\">\n",
              "    <button class=\"colab-df-convert\" onclick=\"convertToInteractive('df-cda51f62-ce69-465a-a246-da0095a80100')\"\n",
              "            title=\"Convert this dataframe to an interactive table.\"\n",
              "            style=\"display:none;\">\n",
              "\n",
              "  <svg xmlns=\"http://www.w3.org/2000/svg\" height=\"24px\" viewBox=\"0 -960 960 960\">\n",
              "    <path d=\"M120-120v-720h720v720H120Zm60-500h600v-160H180v160Zm220 220h160v-160H400v160Zm0 220h160v-160H400v160ZM180-400h160v-160H180v160Zm440 0h160v-160H620v160ZM180-180h160v-160H180v160Zm440 0h160v-160H620v160Z\"/>\n",
              "  </svg>\n",
              "    </button>\n",
              "\n",
              "  <style>\n",
              "    .colab-df-container {\n",
              "      display:flex;\n",
              "      gap: 12px;\n",
              "    }\n",
              "\n",
              "    .colab-df-convert {\n",
              "      background-color: #E8F0FE;\n",
              "      border: none;\n",
              "      border-radius: 50%;\n",
              "      cursor: pointer;\n",
              "      display: none;\n",
              "      fill: #1967D2;\n",
              "      height: 32px;\n",
              "      padding: 0 0 0 0;\n",
              "      width: 32px;\n",
              "    }\n",
              "\n",
              "    .colab-df-convert:hover {\n",
              "      background-color: #E2EBFA;\n",
              "      box-shadow: 0px 1px 2px rgba(60, 64, 67, 0.3), 0px 1px 3px 1px rgba(60, 64, 67, 0.15);\n",
              "      fill: #174EA6;\n",
              "    }\n",
              "\n",
              "    .colab-df-buttons div {\n",
              "      margin-bottom: 4px;\n",
              "    }\n",
              "\n",
              "    [theme=dark] .colab-df-convert {\n",
              "      background-color: #3B4455;\n",
              "      fill: #D2E3FC;\n",
              "    }\n",
              "\n",
              "    [theme=dark] .colab-df-convert:hover {\n",
              "      background-color: #434B5C;\n",
              "      box-shadow: 0px 1px 3px 1px rgba(0, 0, 0, 0.15);\n",
              "      filter: drop-shadow(0px 1px 2px rgba(0, 0, 0, 0.3));\n",
              "      fill: #FFFFFF;\n",
              "    }\n",
              "  </style>\n",
              "\n",
              "    <script>\n",
              "      const buttonEl =\n",
              "        document.querySelector('#df-cda51f62-ce69-465a-a246-da0095a80100 button.colab-df-convert');\n",
              "      buttonEl.style.display =\n",
              "        google.colab.kernel.accessAllowed ? 'block' : 'none';\n",
              "\n",
              "      async function convertToInteractive(key) {\n",
              "        const element = document.querySelector('#df-cda51f62-ce69-465a-a246-da0095a80100');\n",
              "        const dataTable =\n",
              "          await google.colab.kernel.invokeFunction('convertToInteractive',\n",
              "                                                    [key], {});\n",
              "        if (!dataTable) return;\n",
              "\n",
              "        const docLinkHtml = 'Like what you see? Visit the ' +\n",
              "          '<a target=\"_blank\" href=https://colab.research.google.com/notebooks/data_table.ipynb>data table notebook</a>'\n",
              "          + ' to learn more about interactive tables.';\n",
              "        element.innerHTML = '';\n",
              "        dataTable['output_type'] = 'display_data';\n",
              "        await google.colab.output.renderOutput(dataTable, element);\n",
              "        const docLink = document.createElement('div');\n",
              "        docLink.innerHTML = docLinkHtml;\n",
              "        element.appendChild(docLink);\n",
              "      }\n",
              "    </script>\n",
              "  </div>\n",
              "\n",
              "\n",
              "<div id=\"df-6a198ec3-a8ec-44a5-b517-54e7d8af5353\">\n",
              "  <button class=\"colab-df-quickchart\" onclick=\"quickchart('df-6a198ec3-a8ec-44a5-b517-54e7d8af5353')\"\n",
              "            title=\"Suggest charts\"\n",
              "            style=\"display:none;\">\n",
              "\n",
              "<svg xmlns=\"http://www.w3.org/2000/svg\" height=\"24px\"viewBox=\"0 0 24 24\"\n",
              "     width=\"24px\">\n",
              "    <g>\n",
              "        <path d=\"M19 3H5c-1.1 0-2 .9-2 2v14c0 1.1.9 2 2 2h14c1.1 0 2-.9 2-2V5c0-1.1-.9-2-2-2zM9 17H7v-7h2v7zm4 0h-2V7h2v10zm4 0h-2v-4h2v4z\"/>\n",
              "    </g>\n",
              "</svg>\n",
              "  </button>\n",
              "\n",
              "<style>\n",
              "  .colab-df-quickchart {\n",
              "      --bg-color: #E8F0FE;\n",
              "      --fill-color: #1967D2;\n",
              "      --hover-bg-color: #E2EBFA;\n",
              "      --hover-fill-color: #174EA6;\n",
              "      --disabled-fill-color: #AAA;\n",
              "      --disabled-bg-color: #DDD;\n",
              "  }\n",
              "\n",
              "  [theme=dark] .colab-df-quickchart {\n",
              "      --bg-color: #3B4455;\n",
              "      --fill-color: #D2E3FC;\n",
              "      --hover-bg-color: #434B5C;\n",
              "      --hover-fill-color: #FFFFFF;\n",
              "      --disabled-bg-color: #3B4455;\n",
              "      --disabled-fill-color: #666;\n",
              "  }\n",
              "\n",
              "  .colab-df-quickchart {\n",
              "    background-color: var(--bg-color);\n",
              "    border: none;\n",
              "    border-radius: 50%;\n",
              "    cursor: pointer;\n",
              "    display: none;\n",
              "    fill: var(--fill-color);\n",
              "    height: 32px;\n",
              "    padding: 0;\n",
              "    width: 32px;\n",
              "  }\n",
              "\n",
              "  .colab-df-quickchart:hover {\n",
              "    background-color: var(--hover-bg-color);\n",
              "    box-shadow: 0 1px 2px rgba(60, 64, 67, 0.3), 0 1px 3px 1px rgba(60, 64, 67, 0.15);\n",
              "    fill: var(--button-hover-fill-color);\n",
              "  }\n",
              "\n",
              "  .colab-df-quickchart-complete:disabled,\n",
              "  .colab-df-quickchart-complete:disabled:hover {\n",
              "    background-color: var(--disabled-bg-color);\n",
              "    fill: var(--disabled-fill-color);\n",
              "    box-shadow: none;\n",
              "  }\n",
              "\n",
              "  .colab-df-spinner {\n",
              "    border: 2px solid var(--fill-color);\n",
              "    border-color: transparent;\n",
              "    border-bottom-color: var(--fill-color);\n",
              "    animation:\n",
              "      spin 1s steps(1) infinite;\n",
              "  }\n",
              "\n",
              "  @keyframes spin {\n",
              "    0% {\n",
              "      border-color: transparent;\n",
              "      border-bottom-color: var(--fill-color);\n",
              "      border-left-color: var(--fill-color);\n",
              "    }\n",
              "    20% {\n",
              "      border-color: transparent;\n",
              "      border-left-color: var(--fill-color);\n",
              "      border-top-color: var(--fill-color);\n",
              "    }\n",
              "    30% {\n",
              "      border-color: transparent;\n",
              "      border-left-color: var(--fill-color);\n",
              "      border-top-color: var(--fill-color);\n",
              "      border-right-color: var(--fill-color);\n",
              "    }\n",
              "    40% {\n",
              "      border-color: transparent;\n",
              "      border-right-color: var(--fill-color);\n",
              "      border-top-color: var(--fill-color);\n",
              "    }\n",
              "    60% {\n",
              "      border-color: transparent;\n",
              "      border-right-color: var(--fill-color);\n",
              "    }\n",
              "    80% {\n",
              "      border-color: transparent;\n",
              "      border-right-color: var(--fill-color);\n",
              "      border-bottom-color: var(--fill-color);\n",
              "    }\n",
              "    90% {\n",
              "      border-color: transparent;\n",
              "      border-bottom-color: var(--fill-color);\n",
              "    }\n",
              "  }\n",
              "</style>\n",
              "\n",
              "  <script>\n",
              "    async function quickchart(key) {\n",
              "      const quickchartButtonEl =\n",
              "        document.querySelector('#' + key + ' button');\n",
              "      quickchartButtonEl.disabled = true;  // To prevent multiple clicks.\n",
              "      quickchartButtonEl.classList.add('colab-df-spinner');\n",
              "      try {\n",
              "        const charts = await google.colab.kernel.invokeFunction(\n",
              "            'suggestCharts', [key], {});\n",
              "      } catch (error) {\n",
              "        console.error('Error during call to suggestCharts:', error);\n",
              "      }\n",
              "      quickchartButtonEl.classList.remove('colab-df-spinner');\n",
              "      quickchartButtonEl.classList.add('colab-df-quickchart-complete');\n",
              "    }\n",
              "    (() => {\n",
              "      let quickchartButtonEl =\n",
              "        document.querySelector('#df-6a198ec3-a8ec-44a5-b517-54e7d8af5353 button');\n",
              "      quickchartButtonEl.style.display =\n",
              "        google.colab.kernel.accessAllowed ? 'block' : 'none';\n",
              "    })();\n",
              "  </script>\n",
              "</div>\n",
              "    </div>\n",
              "  </div>\n"
            ],
            "application/vnd.google.colaboratory.intrinsic+json": {
              "type": "dataframe",
              "variable_name": "test_data",
              "summary": "{\n  \"name\": \"test_data\",\n  \"rows\": 500,\n  \"fields\": [\n    {\n      \"column\": \"S\",\n      \"properties\": {\n        \"dtype\": \"number\",\n        \"std\": 55.26999377643981,\n        \"min\": 1264.74,\n        \"max\": 1527.46,\n        \"num_unique_values\": 219,\n        \"samples\": [\n          1366.42,\n          1421.22,\n          1448.72\n        ],\n        \"semantic_type\": \"\",\n        \"description\": \"\"\n      }\n    },\n    {\n      \"column\": \"K\",\n      \"properties\": {\n        \"dtype\": \"number\",\n        \"std\": 167,\n        \"min\": 850,\n        \"max\": 1995,\n        \"num_unique_values\": 52,\n        \"samples\": [\n          1150,\n          1395,\n          1455\n        ],\n        \"semantic_type\": \"\",\n        \"description\": \"\"\n      }\n    },\n    {\n      \"column\": \"tau\",\n      \"properties\": {\n        \"dtype\": \"number\",\n        \"std\": 0.22191633216899417,\n        \"min\": 0.0849315068493151,\n        \"max\": 0.986301369863014,\n        \"num_unique_values\": 168,\n        \"samples\": [\n          0.810958904109589,\n          0.583561643835616,\n          0.83013698630137\n        ],\n        \"semantic_type\": \"\",\n        \"description\": \"\"\n      }\n    },\n    {\n      \"column\": \"r\",\n      \"properties\": {\n        \"dtype\": \"number\",\n        \"std\": 0.00044493763495347984,\n        \"min\": 0.0106,\n        \"max\": 0.0129,\n        \"num_unique_values\": 22,\n        \"samples\": [\n          0.0115,\n          0.0112,\n          0.0113\n        ],\n        \"semantic_type\": \"\",\n        \"description\": \"\"\n      }\n    }\n  ]\n}"
            }
          },
          "metadata": {},
          "execution_count": 123
        }
      ]
    },
    {
      "cell_type": "code",
      "source": [
        "train_data.dtypes"
      ],
      "metadata": {
        "colab": {
          "base_uri": "https://localhost:8080/"
        },
        "id": "KMUYqVJlAQ5k",
        "outputId": "50e588c0-0732-47bd-dbe3-4e5a4033e829"
      },
      "execution_count": null,
      "outputs": [
        {
          "output_type": "execute_result",
          "data": {
            "text/plain": [
              "Value    float64\n",
              "S        float64\n",
              "K          int64\n",
              "tau      float64\n",
              "r        float64\n",
              "BS        object\n",
              "dtype: object"
            ]
          },
          "metadata": {},
          "execution_count": 124
        }
      ]
    },
    {
      "cell_type": "code",
      "source": [
        "train_data.isnull().sum()"
      ],
      "metadata": {
        "colab": {
          "base_uri": "https://localhost:8080/"
        },
        "id": "hFMan1M14Rqn",
        "outputId": "2834b2a3-f96c-4075-ae98-91575158e6ea"
      },
      "execution_count": null,
      "outputs": [
        {
          "output_type": "execute_result",
          "data": {
            "text/plain": [
              "Value    0\n",
              "S        0\n",
              "K        0\n",
              "tau      0\n",
              "r        0\n",
              "BS       0\n",
              "dtype: int64"
            ]
          },
          "metadata": {},
          "execution_count": 125
        }
      ]
    },
    {
      "cell_type": "code",
      "source": [
        "train_data.describe()"
      ],
      "metadata": {
        "colab": {
          "base_uri": "https://localhost:8080/",
          "height": 300
        },
        "id": "mu86tc7x4WW-",
        "outputId": "e5b94258-cdad-4786-e173-c3a09c41af1f"
      },
      "execution_count": null,
      "outputs": [
        {
          "output_type": "execute_result",
          "data": {
            "text/plain": [
              "             Value            S            K          tau            r\n",
              "count  5000.000000  5000.000000  5000.000000  5000.000000  5000.000000\n",
              "mean    140.316869  1426.643916  1370.244000     0.327615     0.011468\n",
              "std     125.155000    56.051523   172.679107     0.231184     0.000448\n",
              "min       0.281250  1264.740000   750.000000     0.084932     0.010600\n",
              "25%      45.750000  1387.670000  1275.000000     0.142466     0.011100\n",
              "50%     105.125000  1434.320000  1400.000000     0.238356     0.011400\n",
              "75%     200.406250  1469.440000  1475.000000     0.463014     0.011700\n",
              "max     685.500000  1527.460000  1995.000000     0.989041     0.012900"
            ],
            "text/html": [
              "\n",
              "  <div id=\"df-21b4e06e-e219-4355-a531-fda26fc2817d\" class=\"colab-df-container\">\n",
              "    <div>\n",
              "<style scoped>\n",
              "    .dataframe tbody tr th:only-of-type {\n",
              "        vertical-align: middle;\n",
              "    }\n",
              "\n",
              "    .dataframe tbody tr th {\n",
              "        vertical-align: top;\n",
              "    }\n",
              "\n",
              "    .dataframe thead th {\n",
              "        text-align: right;\n",
              "    }\n",
              "</style>\n",
              "<table border=\"1\" class=\"dataframe\">\n",
              "  <thead>\n",
              "    <tr style=\"text-align: right;\">\n",
              "      <th></th>\n",
              "      <th>Value</th>\n",
              "      <th>S</th>\n",
              "      <th>K</th>\n",
              "      <th>tau</th>\n",
              "      <th>r</th>\n",
              "    </tr>\n",
              "  </thead>\n",
              "  <tbody>\n",
              "    <tr>\n",
              "      <th>count</th>\n",
              "      <td>5000.000000</td>\n",
              "      <td>5000.000000</td>\n",
              "      <td>5000.000000</td>\n",
              "      <td>5000.000000</td>\n",
              "      <td>5000.000000</td>\n",
              "    </tr>\n",
              "    <tr>\n",
              "      <th>mean</th>\n",
              "      <td>140.316869</td>\n",
              "      <td>1426.643916</td>\n",
              "      <td>1370.244000</td>\n",
              "      <td>0.327615</td>\n",
              "      <td>0.011468</td>\n",
              "    </tr>\n",
              "    <tr>\n",
              "      <th>std</th>\n",
              "      <td>125.155000</td>\n",
              "      <td>56.051523</td>\n",
              "      <td>172.679107</td>\n",
              "      <td>0.231184</td>\n",
              "      <td>0.000448</td>\n",
              "    </tr>\n",
              "    <tr>\n",
              "      <th>min</th>\n",
              "      <td>0.281250</td>\n",
              "      <td>1264.740000</td>\n",
              "      <td>750.000000</td>\n",
              "      <td>0.084932</td>\n",
              "      <td>0.010600</td>\n",
              "    </tr>\n",
              "    <tr>\n",
              "      <th>25%</th>\n",
              "      <td>45.750000</td>\n",
              "      <td>1387.670000</td>\n",
              "      <td>1275.000000</td>\n",
              "      <td>0.142466</td>\n",
              "      <td>0.011100</td>\n",
              "    </tr>\n",
              "    <tr>\n",
              "      <th>50%</th>\n",
              "      <td>105.125000</td>\n",
              "      <td>1434.320000</td>\n",
              "      <td>1400.000000</td>\n",
              "      <td>0.238356</td>\n",
              "      <td>0.011400</td>\n",
              "    </tr>\n",
              "    <tr>\n",
              "      <th>75%</th>\n",
              "      <td>200.406250</td>\n",
              "      <td>1469.440000</td>\n",
              "      <td>1475.000000</td>\n",
              "      <td>0.463014</td>\n",
              "      <td>0.011700</td>\n",
              "    </tr>\n",
              "    <tr>\n",
              "      <th>max</th>\n",
              "      <td>685.500000</td>\n",
              "      <td>1527.460000</td>\n",
              "      <td>1995.000000</td>\n",
              "      <td>0.989041</td>\n",
              "      <td>0.012900</td>\n",
              "    </tr>\n",
              "  </tbody>\n",
              "</table>\n",
              "</div>\n",
              "    <div class=\"colab-df-buttons\">\n",
              "\n",
              "  <div class=\"colab-df-container\">\n",
              "    <button class=\"colab-df-convert\" onclick=\"convertToInteractive('df-21b4e06e-e219-4355-a531-fda26fc2817d')\"\n",
              "            title=\"Convert this dataframe to an interactive table.\"\n",
              "            style=\"display:none;\">\n",
              "\n",
              "  <svg xmlns=\"http://www.w3.org/2000/svg\" height=\"24px\" viewBox=\"0 -960 960 960\">\n",
              "    <path d=\"M120-120v-720h720v720H120Zm60-500h600v-160H180v160Zm220 220h160v-160H400v160Zm0 220h160v-160H400v160ZM180-400h160v-160H180v160Zm440 0h160v-160H620v160ZM180-180h160v-160H180v160Zm440 0h160v-160H620v160Z\"/>\n",
              "  </svg>\n",
              "    </button>\n",
              "\n",
              "  <style>\n",
              "    .colab-df-container {\n",
              "      display:flex;\n",
              "      gap: 12px;\n",
              "    }\n",
              "\n",
              "    .colab-df-convert {\n",
              "      background-color: #E8F0FE;\n",
              "      border: none;\n",
              "      border-radius: 50%;\n",
              "      cursor: pointer;\n",
              "      display: none;\n",
              "      fill: #1967D2;\n",
              "      height: 32px;\n",
              "      padding: 0 0 0 0;\n",
              "      width: 32px;\n",
              "    }\n",
              "\n",
              "    .colab-df-convert:hover {\n",
              "      background-color: #E2EBFA;\n",
              "      box-shadow: 0px 1px 2px rgba(60, 64, 67, 0.3), 0px 1px 3px 1px rgba(60, 64, 67, 0.15);\n",
              "      fill: #174EA6;\n",
              "    }\n",
              "\n",
              "    .colab-df-buttons div {\n",
              "      margin-bottom: 4px;\n",
              "    }\n",
              "\n",
              "    [theme=dark] .colab-df-convert {\n",
              "      background-color: #3B4455;\n",
              "      fill: #D2E3FC;\n",
              "    }\n",
              "\n",
              "    [theme=dark] .colab-df-convert:hover {\n",
              "      background-color: #434B5C;\n",
              "      box-shadow: 0px 1px 3px 1px rgba(0, 0, 0, 0.15);\n",
              "      filter: drop-shadow(0px 1px 2px rgba(0, 0, 0, 0.3));\n",
              "      fill: #FFFFFF;\n",
              "    }\n",
              "  </style>\n",
              "\n",
              "    <script>\n",
              "      const buttonEl =\n",
              "        document.querySelector('#df-21b4e06e-e219-4355-a531-fda26fc2817d button.colab-df-convert');\n",
              "      buttonEl.style.display =\n",
              "        google.colab.kernel.accessAllowed ? 'block' : 'none';\n",
              "\n",
              "      async function convertToInteractive(key) {\n",
              "        const element = document.querySelector('#df-21b4e06e-e219-4355-a531-fda26fc2817d');\n",
              "        const dataTable =\n",
              "          await google.colab.kernel.invokeFunction('convertToInteractive',\n",
              "                                                    [key], {});\n",
              "        if (!dataTable) return;\n",
              "\n",
              "        const docLinkHtml = 'Like what you see? Visit the ' +\n",
              "          '<a target=\"_blank\" href=https://colab.research.google.com/notebooks/data_table.ipynb>data table notebook</a>'\n",
              "          + ' to learn more about interactive tables.';\n",
              "        element.innerHTML = '';\n",
              "        dataTable['output_type'] = 'display_data';\n",
              "        await google.colab.output.renderOutput(dataTable, element);\n",
              "        const docLink = document.createElement('div');\n",
              "        docLink.innerHTML = docLinkHtml;\n",
              "        element.appendChild(docLink);\n",
              "      }\n",
              "    </script>\n",
              "  </div>\n",
              "\n",
              "\n",
              "<div id=\"df-e6c6f9c3-18ca-4c61-9b59-d9acaf170516\">\n",
              "  <button class=\"colab-df-quickchart\" onclick=\"quickchart('df-e6c6f9c3-18ca-4c61-9b59-d9acaf170516')\"\n",
              "            title=\"Suggest charts\"\n",
              "            style=\"display:none;\">\n",
              "\n",
              "<svg xmlns=\"http://www.w3.org/2000/svg\" height=\"24px\"viewBox=\"0 0 24 24\"\n",
              "     width=\"24px\">\n",
              "    <g>\n",
              "        <path d=\"M19 3H5c-1.1 0-2 .9-2 2v14c0 1.1.9 2 2 2h14c1.1 0 2-.9 2-2V5c0-1.1-.9-2-2-2zM9 17H7v-7h2v7zm4 0h-2V7h2v10zm4 0h-2v-4h2v4z\"/>\n",
              "    </g>\n",
              "</svg>\n",
              "  </button>\n",
              "\n",
              "<style>\n",
              "  .colab-df-quickchart {\n",
              "      --bg-color: #E8F0FE;\n",
              "      --fill-color: #1967D2;\n",
              "      --hover-bg-color: #E2EBFA;\n",
              "      --hover-fill-color: #174EA6;\n",
              "      --disabled-fill-color: #AAA;\n",
              "      --disabled-bg-color: #DDD;\n",
              "  }\n",
              "\n",
              "  [theme=dark] .colab-df-quickchart {\n",
              "      --bg-color: #3B4455;\n",
              "      --fill-color: #D2E3FC;\n",
              "      --hover-bg-color: #434B5C;\n",
              "      --hover-fill-color: #FFFFFF;\n",
              "      --disabled-bg-color: #3B4455;\n",
              "      --disabled-fill-color: #666;\n",
              "  }\n",
              "\n",
              "  .colab-df-quickchart {\n",
              "    background-color: var(--bg-color);\n",
              "    border: none;\n",
              "    border-radius: 50%;\n",
              "    cursor: pointer;\n",
              "    display: none;\n",
              "    fill: var(--fill-color);\n",
              "    height: 32px;\n",
              "    padding: 0;\n",
              "    width: 32px;\n",
              "  }\n",
              "\n",
              "  .colab-df-quickchart:hover {\n",
              "    background-color: var(--hover-bg-color);\n",
              "    box-shadow: 0 1px 2px rgba(60, 64, 67, 0.3), 0 1px 3px 1px rgba(60, 64, 67, 0.15);\n",
              "    fill: var(--button-hover-fill-color);\n",
              "  }\n",
              "\n",
              "  .colab-df-quickchart-complete:disabled,\n",
              "  .colab-df-quickchart-complete:disabled:hover {\n",
              "    background-color: var(--disabled-bg-color);\n",
              "    fill: var(--disabled-fill-color);\n",
              "    box-shadow: none;\n",
              "  }\n",
              "\n",
              "  .colab-df-spinner {\n",
              "    border: 2px solid var(--fill-color);\n",
              "    border-color: transparent;\n",
              "    border-bottom-color: var(--fill-color);\n",
              "    animation:\n",
              "      spin 1s steps(1) infinite;\n",
              "  }\n",
              "\n",
              "  @keyframes spin {\n",
              "    0% {\n",
              "      border-color: transparent;\n",
              "      border-bottom-color: var(--fill-color);\n",
              "      border-left-color: var(--fill-color);\n",
              "    }\n",
              "    20% {\n",
              "      border-color: transparent;\n",
              "      border-left-color: var(--fill-color);\n",
              "      border-top-color: var(--fill-color);\n",
              "    }\n",
              "    30% {\n",
              "      border-color: transparent;\n",
              "      border-left-color: var(--fill-color);\n",
              "      border-top-color: var(--fill-color);\n",
              "      border-right-color: var(--fill-color);\n",
              "    }\n",
              "    40% {\n",
              "      border-color: transparent;\n",
              "      border-right-color: var(--fill-color);\n",
              "      border-top-color: var(--fill-color);\n",
              "    }\n",
              "    60% {\n",
              "      border-color: transparent;\n",
              "      border-right-color: var(--fill-color);\n",
              "    }\n",
              "    80% {\n",
              "      border-color: transparent;\n",
              "      border-right-color: var(--fill-color);\n",
              "      border-bottom-color: var(--fill-color);\n",
              "    }\n",
              "    90% {\n",
              "      border-color: transparent;\n",
              "      border-bottom-color: var(--fill-color);\n",
              "    }\n",
              "  }\n",
              "</style>\n",
              "\n",
              "  <script>\n",
              "    async function quickchart(key) {\n",
              "      const quickchartButtonEl =\n",
              "        document.querySelector('#' + key + ' button');\n",
              "      quickchartButtonEl.disabled = true;  // To prevent multiple clicks.\n",
              "      quickchartButtonEl.classList.add('colab-df-spinner');\n",
              "      try {\n",
              "        const charts = await google.colab.kernel.invokeFunction(\n",
              "            'suggestCharts', [key], {});\n",
              "      } catch (error) {\n",
              "        console.error('Error during call to suggestCharts:', error);\n",
              "      }\n",
              "      quickchartButtonEl.classList.remove('colab-df-spinner');\n",
              "      quickchartButtonEl.classList.add('colab-df-quickchart-complete');\n",
              "    }\n",
              "    (() => {\n",
              "      let quickchartButtonEl =\n",
              "        document.querySelector('#df-e6c6f9c3-18ca-4c61-9b59-d9acaf170516 button');\n",
              "      quickchartButtonEl.style.display =\n",
              "        google.colab.kernel.accessAllowed ? 'block' : 'none';\n",
              "    })();\n",
              "  </script>\n",
              "</div>\n",
              "    </div>\n",
              "  </div>\n"
            ],
            "application/vnd.google.colaboratory.intrinsic+json": {
              "type": "dataframe",
              "summary": "{\n  \"name\": \"train_data\",\n  \"rows\": 8,\n  \"fields\": [\n    {\n      \"column\": \"Value\",\n      \"properties\": {\n        \"dtype\": \"number\",\n        \"std\": 1715.1979263626006,\n        \"min\": 0.28125,\n        \"max\": 5000.0,\n        \"num_unique_values\": 8,\n        \"samples\": [\n          140.31686875,\n          105.125,\n          5000.0\n        ],\n        \"semantic_type\": \"\",\n        \"description\": \"\"\n      }\n    },\n    {\n      \"column\": \"S\",\n      \"properties\": {\n        \"dtype\": \"number\",\n        \"std\": 1419.6409768597503,\n        \"min\": 56.05152255114043,\n        \"max\": 5000.0,\n        \"num_unique_values\": 8,\n        \"samples\": [\n          1426.643916,\n          1434.32,\n          5000.0\n        ],\n        \"semantic_type\": \"\",\n        \"description\": \"\"\n      }\n    },\n    {\n      \"column\": \"K\",\n      \"properties\": {\n        \"dtype\": \"number\",\n        \"std\": 1446.1248471141907,\n        \"min\": 172.67910724466861,\n        \"max\": 5000.0,\n        \"num_unique_values\": 8,\n        \"samples\": [\n          1370.244,\n          1400.0,\n          5000.0\n        ],\n        \"semantic_type\": \"\",\n        \"description\": \"\"\n      }\n    },\n    {\n      \"column\": \"tau\",\n      \"properties\": {\n        \"dtype\": \"number\",\n        \"std\": 1767.6418880898011,\n        \"min\": 0.0849315068493151,\n        \"max\": 5000.0,\n        \"num_unique_values\": 8,\n        \"samples\": [\n          0.3276147945205479,\n          0.238356164383562,\n          5000.0\n        ],\n        \"semantic_type\": \"\",\n        \"description\": \"\"\n      }\n    },\n    {\n      \"column\": \"r\",\n      \"properties\": {\n        \"dtype\": \"number\",\n        \"std\": 1767.763436832671,\n        \"min\": 0.0004483820349767127,\n        \"max\": 5000.0,\n        \"num_unique_values\": 8,\n        \"samples\": [\n          0.0114676,\n          0.0114,\n          5000.0\n        ],\n        \"semantic_type\": \"\",\n        \"description\": \"\"\n      }\n    }\n  ]\n}"
            }
          },
          "metadata": {},
          "execution_count": 126
        }
      ]
    },
    {
      "cell_type": "code",
      "source": [
        "train_data['Over'] = np.where(train_data['BS'] == 'Over', 1, 0)"
      ],
      "metadata": {
        "id": "8GwWv0l64bmN"
      },
      "execution_count": null,
      "outputs": []
    },
    {
      "cell_type": "code",
      "source": [
        "train_data.head()"
      ],
      "metadata": {
        "colab": {
          "base_uri": "https://localhost:8080/",
          "height": 206
        },
        "id": "URJErRC24dwN",
        "outputId": "26f40d29-09cf-475b-b229-c84fd3e50736"
      },
      "execution_count": null,
      "outputs": [
        {
          "output_type": "execute_result",
          "data": {
            "text/plain": [
              "     Value        S     K       tau       r     BS  Over\n",
              "1  348.500  1394.46  1050  0.128767  0.0116  Under     0\n",
              "2  149.375  1432.25  1400  0.679452  0.0113  Under     0\n",
              "3  294.500  1478.90  1225  0.443836  0.0112  Under     0\n",
              "4    3.375  1369.89  1500  0.117808  0.0119   Over     1\n",
              "5   84.000  1366.42  1350  0.298630  0.0119  Under     0"
            ],
            "text/html": [
              "\n",
              "  <div id=\"df-0e605d8c-179c-470f-b412-17b7ef194d92\" class=\"colab-df-container\">\n",
              "    <div>\n",
              "<style scoped>\n",
              "    .dataframe tbody tr th:only-of-type {\n",
              "        vertical-align: middle;\n",
              "    }\n",
              "\n",
              "    .dataframe tbody tr th {\n",
              "        vertical-align: top;\n",
              "    }\n",
              "\n",
              "    .dataframe thead th {\n",
              "        text-align: right;\n",
              "    }\n",
              "</style>\n",
              "<table border=\"1\" class=\"dataframe\">\n",
              "  <thead>\n",
              "    <tr style=\"text-align: right;\">\n",
              "      <th></th>\n",
              "      <th>Value</th>\n",
              "      <th>S</th>\n",
              "      <th>K</th>\n",
              "      <th>tau</th>\n",
              "      <th>r</th>\n",
              "      <th>BS</th>\n",
              "      <th>Over</th>\n",
              "    </tr>\n",
              "  </thead>\n",
              "  <tbody>\n",
              "    <tr>\n",
              "      <th>1</th>\n",
              "      <td>348.500</td>\n",
              "      <td>1394.46</td>\n",
              "      <td>1050</td>\n",
              "      <td>0.128767</td>\n",
              "      <td>0.0116</td>\n",
              "      <td>Under</td>\n",
              "      <td>0</td>\n",
              "    </tr>\n",
              "    <tr>\n",
              "      <th>2</th>\n",
              "      <td>149.375</td>\n",
              "      <td>1432.25</td>\n",
              "      <td>1400</td>\n",
              "      <td>0.679452</td>\n",
              "      <td>0.0113</td>\n",
              "      <td>Under</td>\n",
              "      <td>0</td>\n",
              "    </tr>\n",
              "    <tr>\n",
              "      <th>3</th>\n",
              "      <td>294.500</td>\n",
              "      <td>1478.90</td>\n",
              "      <td>1225</td>\n",
              "      <td>0.443836</td>\n",
              "      <td>0.0112</td>\n",
              "      <td>Under</td>\n",
              "      <td>0</td>\n",
              "    </tr>\n",
              "    <tr>\n",
              "      <th>4</th>\n",
              "      <td>3.375</td>\n",
              "      <td>1369.89</td>\n",
              "      <td>1500</td>\n",
              "      <td>0.117808</td>\n",
              "      <td>0.0119</td>\n",
              "      <td>Over</td>\n",
              "      <td>1</td>\n",
              "    </tr>\n",
              "    <tr>\n",
              "      <th>5</th>\n",
              "      <td>84.000</td>\n",
              "      <td>1366.42</td>\n",
              "      <td>1350</td>\n",
              "      <td>0.298630</td>\n",
              "      <td>0.0119</td>\n",
              "      <td>Under</td>\n",
              "      <td>0</td>\n",
              "    </tr>\n",
              "  </tbody>\n",
              "</table>\n",
              "</div>\n",
              "    <div class=\"colab-df-buttons\">\n",
              "\n",
              "  <div class=\"colab-df-container\">\n",
              "    <button class=\"colab-df-convert\" onclick=\"convertToInteractive('df-0e605d8c-179c-470f-b412-17b7ef194d92')\"\n",
              "            title=\"Convert this dataframe to an interactive table.\"\n",
              "            style=\"display:none;\">\n",
              "\n",
              "  <svg xmlns=\"http://www.w3.org/2000/svg\" height=\"24px\" viewBox=\"0 -960 960 960\">\n",
              "    <path d=\"M120-120v-720h720v720H120Zm60-500h600v-160H180v160Zm220 220h160v-160H400v160Zm0 220h160v-160H400v160ZM180-400h160v-160H180v160Zm440 0h160v-160H620v160ZM180-180h160v-160H180v160Zm440 0h160v-160H620v160Z\"/>\n",
              "  </svg>\n",
              "    </button>\n",
              "\n",
              "  <style>\n",
              "    .colab-df-container {\n",
              "      display:flex;\n",
              "      gap: 12px;\n",
              "    }\n",
              "\n",
              "    .colab-df-convert {\n",
              "      background-color: #E8F0FE;\n",
              "      border: none;\n",
              "      border-radius: 50%;\n",
              "      cursor: pointer;\n",
              "      display: none;\n",
              "      fill: #1967D2;\n",
              "      height: 32px;\n",
              "      padding: 0 0 0 0;\n",
              "      width: 32px;\n",
              "    }\n",
              "\n",
              "    .colab-df-convert:hover {\n",
              "      background-color: #E2EBFA;\n",
              "      box-shadow: 0px 1px 2px rgba(60, 64, 67, 0.3), 0px 1px 3px 1px rgba(60, 64, 67, 0.15);\n",
              "      fill: #174EA6;\n",
              "    }\n",
              "\n",
              "    .colab-df-buttons div {\n",
              "      margin-bottom: 4px;\n",
              "    }\n",
              "\n",
              "    [theme=dark] .colab-df-convert {\n",
              "      background-color: #3B4455;\n",
              "      fill: #D2E3FC;\n",
              "    }\n",
              "\n",
              "    [theme=dark] .colab-df-convert:hover {\n",
              "      background-color: #434B5C;\n",
              "      box-shadow: 0px 1px 3px 1px rgba(0, 0, 0, 0.15);\n",
              "      filter: drop-shadow(0px 1px 2px rgba(0, 0, 0, 0.3));\n",
              "      fill: #FFFFFF;\n",
              "    }\n",
              "  </style>\n",
              "\n",
              "    <script>\n",
              "      const buttonEl =\n",
              "        document.querySelector('#df-0e605d8c-179c-470f-b412-17b7ef194d92 button.colab-df-convert');\n",
              "      buttonEl.style.display =\n",
              "        google.colab.kernel.accessAllowed ? 'block' : 'none';\n",
              "\n",
              "      async function convertToInteractive(key) {\n",
              "        const element = document.querySelector('#df-0e605d8c-179c-470f-b412-17b7ef194d92');\n",
              "        const dataTable =\n",
              "          await google.colab.kernel.invokeFunction('convertToInteractive',\n",
              "                                                    [key], {});\n",
              "        if (!dataTable) return;\n",
              "\n",
              "        const docLinkHtml = 'Like what you see? Visit the ' +\n",
              "          '<a target=\"_blank\" href=https://colab.research.google.com/notebooks/data_table.ipynb>data table notebook</a>'\n",
              "          + ' to learn more about interactive tables.';\n",
              "        element.innerHTML = '';\n",
              "        dataTable['output_type'] = 'display_data';\n",
              "        await google.colab.output.renderOutput(dataTable, element);\n",
              "        const docLink = document.createElement('div');\n",
              "        docLink.innerHTML = docLinkHtml;\n",
              "        element.appendChild(docLink);\n",
              "      }\n",
              "    </script>\n",
              "  </div>\n",
              "\n",
              "\n",
              "<div id=\"df-562158fa-0bd2-4a5f-af3c-1f5569fe0173\">\n",
              "  <button class=\"colab-df-quickchart\" onclick=\"quickchart('df-562158fa-0bd2-4a5f-af3c-1f5569fe0173')\"\n",
              "            title=\"Suggest charts\"\n",
              "            style=\"display:none;\">\n",
              "\n",
              "<svg xmlns=\"http://www.w3.org/2000/svg\" height=\"24px\"viewBox=\"0 0 24 24\"\n",
              "     width=\"24px\">\n",
              "    <g>\n",
              "        <path d=\"M19 3H5c-1.1 0-2 .9-2 2v14c0 1.1.9 2 2 2h14c1.1 0 2-.9 2-2V5c0-1.1-.9-2-2-2zM9 17H7v-7h2v7zm4 0h-2V7h2v10zm4 0h-2v-4h2v4z\"/>\n",
              "    </g>\n",
              "</svg>\n",
              "  </button>\n",
              "\n",
              "<style>\n",
              "  .colab-df-quickchart {\n",
              "      --bg-color: #E8F0FE;\n",
              "      --fill-color: #1967D2;\n",
              "      --hover-bg-color: #E2EBFA;\n",
              "      --hover-fill-color: #174EA6;\n",
              "      --disabled-fill-color: #AAA;\n",
              "      --disabled-bg-color: #DDD;\n",
              "  }\n",
              "\n",
              "  [theme=dark] .colab-df-quickchart {\n",
              "      --bg-color: #3B4455;\n",
              "      --fill-color: #D2E3FC;\n",
              "      --hover-bg-color: #434B5C;\n",
              "      --hover-fill-color: #FFFFFF;\n",
              "      --disabled-bg-color: #3B4455;\n",
              "      --disabled-fill-color: #666;\n",
              "  }\n",
              "\n",
              "  .colab-df-quickchart {\n",
              "    background-color: var(--bg-color);\n",
              "    border: none;\n",
              "    border-radius: 50%;\n",
              "    cursor: pointer;\n",
              "    display: none;\n",
              "    fill: var(--fill-color);\n",
              "    height: 32px;\n",
              "    padding: 0;\n",
              "    width: 32px;\n",
              "  }\n",
              "\n",
              "  .colab-df-quickchart:hover {\n",
              "    background-color: var(--hover-bg-color);\n",
              "    box-shadow: 0 1px 2px rgba(60, 64, 67, 0.3), 0 1px 3px 1px rgba(60, 64, 67, 0.15);\n",
              "    fill: var(--button-hover-fill-color);\n",
              "  }\n",
              "\n",
              "  .colab-df-quickchart-complete:disabled,\n",
              "  .colab-df-quickchart-complete:disabled:hover {\n",
              "    background-color: var(--disabled-bg-color);\n",
              "    fill: var(--disabled-fill-color);\n",
              "    box-shadow: none;\n",
              "  }\n",
              "\n",
              "  .colab-df-spinner {\n",
              "    border: 2px solid var(--fill-color);\n",
              "    border-color: transparent;\n",
              "    border-bottom-color: var(--fill-color);\n",
              "    animation:\n",
              "      spin 1s steps(1) infinite;\n",
              "  }\n",
              "\n",
              "  @keyframes spin {\n",
              "    0% {\n",
              "      border-color: transparent;\n",
              "      border-bottom-color: var(--fill-color);\n",
              "      border-left-color: var(--fill-color);\n",
              "    }\n",
              "    20% {\n",
              "      border-color: transparent;\n",
              "      border-left-color: var(--fill-color);\n",
              "      border-top-color: var(--fill-color);\n",
              "    }\n",
              "    30% {\n",
              "      border-color: transparent;\n",
              "      border-left-color: var(--fill-color);\n",
              "      border-top-color: var(--fill-color);\n",
              "      border-right-color: var(--fill-color);\n",
              "    }\n",
              "    40% {\n",
              "      border-color: transparent;\n",
              "      border-right-color: var(--fill-color);\n",
              "      border-top-color: var(--fill-color);\n",
              "    }\n",
              "    60% {\n",
              "      border-color: transparent;\n",
              "      border-right-color: var(--fill-color);\n",
              "    }\n",
              "    80% {\n",
              "      border-color: transparent;\n",
              "      border-right-color: var(--fill-color);\n",
              "      border-bottom-color: var(--fill-color);\n",
              "    }\n",
              "    90% {\n",
              "      border-color: transparent;\n",
              "      border-bottom-color: var(--fill-color);\n",
              "    }\n",
              "  }\n",
              "</style>\n",
              "\n",
              "  <script>\n",
              "    async function quickchart(key) {\n",
              "      const quickchartButtonEl =\n",
              "        document.querySelector('#' + key + ' button');\n",
              "      quickchartButtonEl.disabled = true;  // To prevent multiple clicks.\n",
              "      quickchartButtonEl.classList.add('colab-df-spinner');\n",
              "      try {\n",
              "        const charts = await google.colab.kernel.invokeFunction(\n",
              "            'suggestCharts', [key], {});\n",
              "      } catch (error) {\n",
              "        console.error('Error during call to suggestCharts:', error);\n",
              "      }\n",
              "      quickchartButtonEl.classList.remove('colab-df-spinner');\n",
              "      quickchartButtonEl.classList.add('colab-df-quickchart-complete');\n",
              "    }\n",
              "    (() => {\n",
              "      let quickchartButtonEl =\n",
              "        document.querySelector('#df-562158fa-0bd2-4a5f-af3c-1f5569fe0173 button');\n",
              "      quickchartButtonEl.style.display =\n",
              "        google.colab.kernel.accessAllowed ? 'block' : 'none';\n",
              "    })();\n",
              "  </script>\n",
              "</div>\n",
              "    </div>\n",
              "  </div>\n"
            ],
            "application/vnd.google.colaboratory.intrinsic+json": {
              "type": "dataframe",
              "variable_name": "train_data",
              "summary": "{\n  \"name\": \"train_data\",\n  \"rows\": 5000,\n  \"fields\": [\n    {\n      \"column\": \"Value\",\n      \"properties\": {\n        \"dtype\": \"number\",\n        \"std\": 125.15500007326867,\n        \"min\": 0.28125,\n        \"max\": 685.5,\n        \"num_unique_values\": 2001,\n        \"samples\": [\n          229.125,\n          86.0,\n          347.375\n        ],\n        \"semantic_type\": \"\",\n        \"description\": \"\"\n      }\n    },\n    {\n      \"column\": \"S\",\n      \"properties\": {\n        \"dtype\": \"number\",\n        \"std\": 56.05152255114043,\n        \"min\": 1264.74,\n        \"max\": 1527.46,\n        \"num_unique_values\": 250,\n        \"samples\": [\n          1455.14,\n          1445.57,\n          1400.14\n        ],\n        \"semantic_type\": \"\",\n        \"description\": \"\"\n      }\n    },\n    {\n      \"column\": \"K\",\n      \"properties\": {\n        \"dtype\": \"number\",\n        \"std\": 172,\n        \"min\": 750,\n        \"max\": 1995,\n        \"num_unique_values\": 73,\n        \"samples\": [\n          1350,\n          1360,\n          1550\n        ],\n        \"semantic_type\": \"\",\n        \"description\": \"\"\n      }\n    },\n    {\n      \"column\": \"tau\",\n      \"properties\": {\n        \"dtype\": \"number\",\n        \"std\": 0.23118440981502342,\n        \"min\": 0.0849315068493151,\n        \"max\": 0.989041095890411,\n        \"num_unique_values\": 237,\n        \"samples\": [\n          0.931506849315068,\n          0.175342465753425,\n          0.654794520547945\n        ],\n        \"semantic_type\": \"\",\n        \"description\": \"\"\n      }\n    },\n    {\n      \"column\": \"r\",\n      \"properties\": {\n        \"dtype\": \"number\",\n        \"std\": 0.0004483820349767127,\n        \"min\": 0.0106,\n        \"max\": 0.0129,\n        \"num_unique_values\": 22,\n        \"samples\": [\n          0.0116,\n          0.0118,\n          0.0109\n        ],\n        \"semantic_type\": \"\",\n        \"description\": \"\"\n      }\n    },\n    {\n      \"column\": \"BS\",\n      \"properties\": {\n        \"dtype\": \"category\",\n        \"num_unique_values\": 2,\n        \"samples\": [\n          \"Over\",\n          \"Under\"\n        ],\n        \"semantic_type\": \"\",\n        \"description\": \"\"\n      }\n    },\n    {\n      \"column\": \"Over\",\n      \"properties\": {\n        \"dtype\": \"number\",\n        \"std\": 0,\n        \"min\": 0,\n        \"max\": 1,\n        \"num_unique_values\": 2,\n        \"samples\": [\n          1,\n          0\n        ],\n        \"semantic_type\": \"\",\n        \"description\": \"\"\n      }\n    }\n  ]\n}"
            }
          },
          "metadata": {},
          "execution_count": 128
        }
      ]
    },
    {
      "cell_type": "code",
      "source": [
        "# Box plot for S\n",
        "sns.boxplot(x=train_data['S'])\n",
        "plt.show()"
      ],
      "metadata": {
        "colab": {
          "base_uri": "https://localhost:8080/",
          "height": 449
        },
        "id": "F0XpnrPG5oQs",
        "outputId": "14ce828b-d633-4010-dd29-9a384fb86d87"
      },
      "execution_count": null,
      "outputs": [
        {
          "output_type": "display_data",
          "data": {
            "text/plain": [
              "<Figure size 640x480 with 1 Axes>"
            ],
            "image/png": "[encoded data removed]"
          },
          "metadata": {}
        }
      ]
    },
    {
      "cell_type": "code",
      "source": [
        "# Box plot for K\n",
        "sns.boxplot(x=train_data['K'])\n",
        "plt.show()"
      ],
      "metadata": {
        "colab": {
          "base_uri": "https://localhost:8080/",
          "height": 449
        },
        "id": "efFPxHHz6ZHp",
        "outputId": "e70ce222-5208-45e3-f1b7-146e7d56ed44"
      },
      "execution_count": null,
      "outputs": [
        {
          "output_type": "display_data",
          "data": {
            "text/plain": [
              "<Figure size 640x480 with 1 Axes>"
            ],
            "image/png": "[encoded data removed]"
          },
          "metadata": {}
        }
      ]
    },
    {
      "cell_type": "code",
      "source": [
        "# Box plot for tau\n",
        "sns.boxplot(x=train_data['tau'])\n",
        "plt.show()"
      ],
      "metadata": {
        "colab": {
          "base_uri": "https://localhost:8080/",
          "height": 449
        },
        "id": "n_1TK5m36bNs",
        "outputId": "3b70d801-197c-4e20-ce3b-83c78e230ec3"
      },
      "execution_count": null,
      "outputs": [
        {
          "output_type": "display_data",
          "data": {
            "text/plain": [
              "<Figure size 640x480 with 1 Axes>"
            ],
            "image/png": "[encoded data removed]"
          },
          "metadata": {}
        }
      ]
    },
    {
      "cell_type": "code",
      "source": [
        "# Box plot for r\n",
        "sns.boxplot(x=train_data['r'])\n",
        "plt.show()"
      ],
      "metadata": {
        "colab": {
          "base_uri": "https://localhost:8080/",
          "height": 449
        },
        "id": "wiVCJwVM6ePF",
        "outputId": "972e9378-626b-4dca-add5-dfa849d5a20c"
      },
      "execution_count": null,
      "outputs": [
        {
          "output_type": "display_data",
          "data": {
            "text/plain": [
              "<Figure size 640x480 with 1 Axes>"
            ],
            "image/png": "[encoded data removed]"
          },
          "metadata": {}
        }
      ]
    },
    {
      "cell_type": "code",
      "source": [
        "# Scatter plot for S\n",
        "plt.scatter(train_data['S'], train_data['Value'])\n",
        "plt.xlabel('S')\n",
        "plt.ylabel('Value')\n",
        "plt.show()"
      ],
      "metadata": {
        "colab": {
          "base_uri": "https://localhost:8080/",
          "height": 449
        },
        "id": "ayDWrfIC53c8",
        "outputId": "1c72e7c1-aef6-4b6d-faea-015f36dd063a"
      },
      "execution_count": null,
      "outputs": [
        {
          "output_type": "display_data",
          "data": {
            "text/plain": [
              "<Figure size 640x480 with 1 Axes>"
            ],
            "image/png": "[encoded data removed]"
          },
          "metadata": {}
        }
      ]
    },
    {
      "cell_type": "code",
      "source": [
        "# Scatter plot for K\n",
        "plt.scatter(train_data['K'], train_data['Value'])\n",
        "plt.xlabel('K')\n",
        "plt.ylabel('Value')\n",
        "plt.show()"
      ],
      "metadata": {
        "colab": {
          "base_uri": "https://localhost:8080/",
          "height": 449
        },
        "id": "WZD8UDwU61X5",
        "outputId": "9a422f32-bd23-47fa-bbab-14acf3cb4837"
      },
      "execution_count": null,
      "outputs": [
        {
          "output_type": "display_data",
          "data": {
            "text/plain": [
              "<Figure size 640x480 with 1 Axes>"
            ],
            "image/png": "[encoded data removed]"
          },
          "metadata": {}
        }
      ]
    },
    {
      "cell_type": "code",
      "source": [
        "# Scatter plot for tau\n",
        "plt.scatter(train_data['tau'], train_data['Value'])\n",
        "plt.xlabel('tau')\n",
        "plt.ylabel('Value')\n",
        "plt.show()"
      ],
      "metadata": {
        "colab": {
          "base_uri": "https://localhost:8080/",
          "height": 449
        },
        "id": "wugPVKkV7jKG",
        "outputId": "8afe23b6-ce99-4d55-dbab-eaf239c1361d"
      },
      "execution_count": null,
      "outputs": [
        {
          "output_type": "display_data",
          "data": {
            "text/plain": [
              "<Figure size 640x480 with 1 Axes>"
            ],
            "image/png": "[encoded data removed]"
          },
          "metadata": {}
        }
      ]
    },
    {
      "cell_type": "code",
      "source": [
        "# Scatter plot for r\n",
        "plt.scatter(train_data['r'], train_data['Value'])\n",
        "plt.xlabel('r')\n",
        "plt.ylabel('Value')\n",
        "plt.show()"
      ],
      "metadata": {
        "colab": {
          "base_uri": "https://localhost:8080/",
          "height": 449
        },
        "id": "NqVOpPNp7mYq",
        "outputId": "024dc083-16e5-4d39-f132-111f8dbd3c34"
      },
      "execution_count": null,
      "outputs": [
        {
          "output_type": "display_data",
          "data": {
            "text/plain": [
              "<Figure size 640x480 with 1 Axes>"
            ],
            "image/png": "[encoded data removed]"
          },
          "metadata": {}
        }
      ]
    },
    {
      "cell_type": "code",
      "source": [
        "# Filter outlier for S\n",
        "SQ1 = train_data['S'].quantile(0.25)\n",
        "SQ3 = train_data['S'].quantile(0.75)\n",
        "SIQR = SQ3 - SQ1\n",
        "outlier_condition = (train_data['S'] < (SQ1 - 3 * SIQR)) | (train_data['S']> (SQ3 + 3 * SIQR))\n",
        "\n",
        "SQ3"
      ],
      "metadata": {
        "colab": {
          "base_uri": "https://localhost:8080/"
        },
        "id": "fKvPVZoR9QKY",
        "outputId": "8cbaac40-4700-42fb-f6e6-0c444168d357"
      },
      "execution_count": null,
      "outputs": [
        {
          "output_type": "execute_result",
          "data": {
            "text/plain": [
              "1469.44"
            ]
          },
          "metadata": {},
          "execution_count": 137
        }
      ]
    },
    {
      "cell_type": "code",
      "source": [
        "train_data_filtered = train_data[~outlier_condition]"
      ],
      "metadata": {
        "id": "me_0p7j_-YWI"
      },
      "execution_count": null,
      "outputs": []
    },
    {
      "cell_type": "code",
      "source": [
        "train_data_filtered"
      ],
      "metadata": {
        "colab": {
          "base_uri": "https://localhost:8080/",
          "height": 424
        },
        "id": "TQU3lcxn-u5w",
        "outputId": "f9ed5c8b-c417-4fb2-d37f-9def7c67f9b0"
      },
      "execution_count": null,
      "outputs": [
        {
          "output_type": "execute_result",
          "data": {
            "text/plain": [
              "        Value        S     K       tau       r     BS  Over\n",
              "1     348.500  1394.46  1050  0.128767  0.0116  Under     0\n",
              "2     149.375  1432.25  1400  0.679452  0.0113  Under     0\n",
              "3     294.500  1478.90  1225  0.443836  0.0112  Under     0\n",
              "4       3.375  1369.89  1500  0.117808  0.0119   Over     1\n",
              "5      84.000  1366.42  1350  0.298630  0.0119  Under     0\n",
              "...       ...      ...   ...       ...     ...    ...   ...\n",
              "4996  325.250  1465.15  1175  0.424658  0.0111  Under     0\n",
              "4997   36.000  1480.87  1480  0.101370  0.0111   Over     1\n",
              "4998   90.000  1356.56  1500  0.673973  0.0120  Under     0\n",
              "4999  175.875  1333.36  1200  0.309589  0.0122  Under     0\n",
              "5000  106.375  1480.87  1475  0.504110  0.0111  Under     0\n",
              "\n",
              "[5000 rows x 7 columns]"
            ],
            "text/html": [
              "\n",
              "  <div id=\"df-271380b5-a263-4999-a669-8d4faaff8984\" class=\"colab-df-container\">\n",
              "    <div>\n",
              "<style scoped>\n",
              "    .dataframe tbody tr th:only-of-type {\n",
              "        vertical-align: middle;\n",
              "    }\n",
              "\n",
              "    .dataframe tbody tr th {\n",
              "        vertical-align: top;\n",
              "    }\n",
              "\n",
              "    .dataframe thead th {\n",
              "        text-align: right;\n",
              "    }\n",
              "</style>\n",
              "<table border=\"1\" class=\"dataframe\">\n",
              "  <thead>\n",
              "    <tr style=\"text-align: right;\">\n",
              "      <th></th>\n",
              "      <th>Value</th>\n",
              "      <th>S</th>\n",
              "      <th>K</th>\n",
              "      <th>tau</th>\n",
              "      <th>r</th>\n",
              "      <th>BS</th>\n",
              "      <th>Over</th>\n",
              "    </tr>\n",
              "  </thead>\n",
              "  <tbody>\n",
              "    <tr>\n",
              "      <th>1</th>\n",
              "      <td>348.500</td>\n",
              "      <td>1394.46</td>\n",
              "      <td>1050</td>\n",
              "      <td>0.128767</td>\n",
              "      <td>0.0116</td>\n",
              "      <td>Under</td>\n",
              "      <td>0</td>\n",
              "    </tr>\n",
              "    <tr>\n",
              "      <th>2</th>\n",
              "      <td>149.375</td>\n",
              "      <td>1432.25</td>\n",
              "      <td>1400</td>\n",
              "      <td>0.679452</td>\n",
              "      <td>0.0113</td>\n",
              "      <td>Under</td>\n",
              "      <td>0</td>\n",
              "    </tr>\n",
              "    <tr>\n",
              "      <th>3</th>\n",
              "      <td>294.500</td>\n",
              "      <td>1478.90</td>\n",
              "      <td>1225</td>\n",
              "      <td>0.443836</td>\n",
              "      <td>0.0112</td>\n",
              "      <td>Under</td>\n",
              "      <td>0</td>\n",
              "    </tr>\n",
              "    <tr>\n",
              "      <th>4</th>\n",
              "      <td>3.375</td>\n",
              "      <td>1369.89</td>\n",
              "      <td>1500</td>\n",
              "      <td>0.117808</td>\n",
              "      <td>0.0119</td>\n",
              "      <td>Over</td>\n",
              "      <td>1</td>\n",
              "    </tr>\n",
              "    <tr>\n",
              "      <th>5</th>\n",
              "      <td>84.000</td>\n",
              "      <td>1366.42</td>\n",
              "      <td>1350</td>\n",
              "      <td>0.298630</td>\n",
              "      <td>0.0119</td>\n",
              "      <td>Under</td>\n",
              "      <td>0</td>\n",
              "    </tr>\n",
              "    <tr>\n",
              "      <th>...</th>\n",
              "      <td>...</td>\n",
              "      <td>...</td>\n",
              "      <td>...</td>\n",
              "      <td>...</td>\n",
              "      <td>...</td>\n",
              "      <td>...</td>\n",
              "      <td>...</td>\n",
              "    </tr>\n",
              "    <tr>\n",
              "      <th>4996</th>\n",
              "      <td>325.250</td>\n",
              "      <td>1465.15</td>\n",
              "      <td>1175</td>\n",
              "      <td>0.424658</td>\n",
              "      <td>0.0111</td>\n",
              "      <td>Under</td>\n",
              "      <td>0</td>\n",
              "    </tr>\n",
              "    <tr>\n",
              "      <th>4997</th>\n",
              "      <td>36.000</td>\n",
              "      <td>1480.87</td>\n",
              "      <td>1480</td>\n",
              "      <td>0.101370</td>\n",
              "      <td>0.0111</td>\n",
              "      <td>Over</td>\n",
              "      <td>1</td>\n",
              "    </tr>\n",
              "    <tr>\n",
              "      <th>4998</th>\n",
              "      <td>90.000</td>\n",
              "      <td>1356.56</td>\n",
              "      <td>1500</td>\n",
              "      <td>0.673973</td>\n",
              "      <td>0.0120</td>\n",
              "      <td>Under</td>\n",
              "      <td>0</td>\n",
              "    </tr>\n",
              "    <tr>\n",
              "      <th>4999</th>\n",
              "      <td>175.875</td>\n",
              "      <td>1333.36</td>\n",
              "      <td>1200</td>\n",
              "      <td>0.309589</td>\n",
              "      <td>0.0122</td>\n",
              "      <td>Under</td>\n",
              "      <td>0</td>\n",
              "    </tr>\n",
              "    <tr>\n",
              "      <th>5000</th>\n",
              "      <td>106.375</td>\n",
              "      <td>1480.87</td>\n",
              "      <td>1475</td>\n",
              "      <td>0.504110</td>\n",
              "      <td>0.0111</td>\n",
              "      <td>Under</td>\n",
              "      <td>0</td>\n",
              "    </tr>\n",
              "  </tbody>\n",
              "</table>\n",
              "<p>5000 rows × 7 columns</p>\n",
              "</div>\n",
              "    <div class=\"colab-df-buttons\">\n",
              "\n",
              "  <div class=\"colab-df-container\">\n",
              "    <button class=\"colab-df-convert\" onclick=\"convertToInteractive('df-271380b5-a263-4999-a669-8d4faaff8984')\"\n",
              "            title=\"Convert this dataframe to an interactive table.\"\n",
              "            style=\"display:none;\">\n",
              "\n",
              "  <svg xmlns=\"http://www.w3.org/2000/svg\" height=\"24px\" viewBox=\"0 -960 960 960\">\n",
              "    <path d=\"M120-120v-720h720v720H120Zm60-500h600v-160H180v160Zm220 220h160v-160H400v160Zm0 220h160v-160H400v160ZM180-400h160v-160H180v160Zm440 0h160v-160H620v160ZM180-180h160v-160H180v160Zm440 0h160v-160H620v160Z\"/>\n",
              "  </svg>\n",
              "    </button>\n",
              "\n",
              "  <style>\n",
              "    .colab-df-container {\n",
              "      display:flex;\n",
              "      gap: 12px;\n",
              "    }\n",
              "\n",
              "    .colab-df-convert {\n",
              "      background-color: #E8F0FE;\n",
              "      border: none;\n",
              "      border-radius: 50%;\n",
              "      cursor: pointer;\n",
              "      display: none;\n",
              "      fill: #1967D2;\n",
              "      height: 32px;\n",
              "      padding: 0 0 0 0;\n",
              "      width: 32px;\n",
              "    }\n",
              "\n",
              "    .colab-df-convert:hover {\n",
              "      background-color: #E2EBFA;\n",
              "      box-shadow: 0px 1px 2px rgba(60, 64, 67, 0.3), 0px 1px 3px 1px rgba(60, 64, 67, 0.15);\n",
              "      fill: #174EA6;\n",
              "    }\n",
              "\n",
              "    .colab-df-buttons div {\n",
              "      margin-bottom: 4px;\n",
              "    }\n",
              "\n",
              "    [theme=dark] .colab-df-convert {\n",
              "      background-color: #3B4455;\n",
              "      fill: #D2E3FC;\n",
              "    }\n",
              "\n",
              "    [theme=dark] .colab-df-convert:hover {\n",
              "      background-color: #434B5C;\n",
              "      box-shadow: 0px 1px 3px 1px rgba(0, 0, 0, 0.15);\n",
              "      filter: drop-shadow(0px 1px 2px rgba(0, 0, 0, 0.3));\n",
              "      fill: #FFFFFF;\n",
              "    }\n",
              "  </style>\n",
              "\n",
              "    <script>\n",
              "      const buttonEl =\n",
              "        document.querySelector('#df-271380b5-a263-4999-a669-8d4faaff8984 button.colab-df-convert');\n",
              "      buttonEl.style.display =\n",
              "        google.colab.kernel.accessAllowed ? 'block' : 'none';\n",
              "\n",
              "      async function convertToInteractive(key) {\n",
              "        const element = document.querySelector('#df-271380b5-a263-4999-a669-8d4faaff8984');\n",
              "        const dataTable =\n",
              "          await google.colab.kernel.invokeFunction('convertToInteractive',\n",
              "                                                    [key], {});\n",
              "        if (!dataTable) return;\n",
              "\n",
              "        const docLinkHtml = 'Like what you see? Visit the ' +\n",
              "          '<a target=\"_blank\" href=https://colab.research.google.com/notebooks/data_table.ipynb>data table notebook</a>'\n",
              "          + ' to learn more about interactive tables.';\n",
              "        element.innerHTML = '';\n",
              "        dataTable['output_type'] = 'display_data';\n",
              "        await google.colab.output.renderOutput(dataTable, element);\n",
              "        const docLink = document.createElement('div');\n",
              "        docLink.innerHTML = docLinkHtml;\n",
              "        element.appendChild(docLink);\n",
              "      }\n",
              "    </script>\n",
              "  </div>\n",
              "\n",
              "\n",
              "<div id=\"df-b40b7e40-fd05-41b1-8f11-21ce8db51073\">\n",
              "  <button class=\"colab-df-quickchart\" onclick=\"quickchart('df-b40b7e40-fd05-41b1-8f11-21ce8db51073')\"\n",
              "            title=\"Suggest charts\"\n",
              "            style=\"display:none;\">\n",
              "\n",
              "<svg xmlns=\"http://www.w3.org/2000/svg\" height=\"24px\"viewBox=\"0 0 24 24\"\n",
              "     width=\"24px\">\n",
              "    <g>\n",
              "        <path d=\"M19 3H5c-1.1 0-2 .9-2 2v14c0 1.1.9 2 2 2h14c1.1 0 2-.9 2-2V5c0-1.1-.9-2-2-2zM9 17H7v-7h2v7zm4 0h-2V7h2v10zm4 0h-2v-4h2v4z\"/>\n",
              "    </g>\n",
              "</svg>\n",
              "  </button>\n",
              "\n",
              "<style>\n",
              "  .colab-df-quickchart {\n",
              "      --bg-color: #E8F0FE;\n",
              "      --fill-color: #1967D2;\n",
              "      --hover-bg-color: #E2EBFA;\n",
              "      --hover-fill-color: #174EA6;\n",
              "      --disabled-fill-color: #AAA;\n",
              "      --disabled-bg-color: #DDD;\n",
              "  }\n",
              "\n",
              "  [theme=dark] .colab-df-quickchart {\n",
              "      --bg-color: #3B4455;\n",
              "      --fill-color: #D2E3FC;\n",
              "      --hover-bg-color: #434B5C;\n",
              "      --hover-fill-color: #FFFFFF;\n",
              "      --disabled-bg-color: #3B4455;\n",
              "      --disabled-fill-color: #666;\n",
              "  }\n",
              "\n",
              "  .colab-df-quickchart {\n",
              "    background-color: var(--bg-color);\n",
              "    border: none;\n",
              "    border-radius: 50%;\n",
              "    cursor: pointer;\n",
              "    display: none;\n",
              "    fill: var(--fill-color);\n",
              "    height: 32px;\n",
              "    padding: 0;\n",
              "    width: 32px;\n",
              "  }\n",
              "\n",
              "  .colab-df-quickchart:hover {\n",
              "    background-color: var(--hover-bg-color);\n",
              "    box-shadow: 0 1px 2px rgba(60, 64, 67, 0.3), 0 1px 3px 1px rgba(60, 64, 67, 0.15);\n",
              "    fill: var(--button-hover-fill-color);\n",
              "  }\n",
              "\n",
              "  .colab-df-quickchart-complete:disabled,\n",
              "  .colab-df-quickchart-complete:disabled:hover {\n",
              "    background-color: var(--disabled-bg-color);\n",
              "    fill: var(--disabled-fill-color);\n",
              "    box-shadow: none;\n",
              "  }\n",
              "\n",
              "  .colab-df-spinner {\n",
              "    border: 2px solid var(--fill-color);\n",
              "    border-color: transparent;\n",
              "    border-bottom-color: var(--fill-color);\n",
              "    animation:\n",
              "      spin 1s steps(1) infinite;\n",
              "  }\n",
              "\n",
              "  @keyframes spin {\n",
              "    0% {\n",
              "      border-color: transparent;\n",
              "      border-bottom-color: var(--fill-color);\n",
              "      border-left-color: var(--fill-color);\n",
              "    }\n",
              "    20% {\n",
              "      border-color: transparent;\n",
              "      border-left-color: var(--fill-color);\n",
              "      border-top-color: var(--fill-color);\n",
              "    }\n",
              "    30% {\n",
              "      border-color: transparent;\n",
              "      border-left-color: var(--fill-color);\n",
              "      border-top-color: var(--fill-color);\n",
              "      border-right-color: var(--fill-color);\n",
              "    }\n",
              "    40% {\n",
              "      border-color: transparent;\n",
              "      border-right-color: var(--fill-color);\n",
              "      border-top-color: var(--fill-color);\n",
              "    }\n",
              "    60% {\n",
              "      border-color: transparent;\n",
              "      border-right-color: var(--fill-color);\n",
              "    }\n",
              "    80% {\n",
              "      border-color: transparent;\n",
              "      border-right-color: var(--fill-color);\n",
              "      border-bottom-color: var(--fill-color);\n",
              "    }\n",
              "    90% {\n",
              "      border-color: transparent;\n",
              "      border-bottom-color: var(--fill-color);\n",
              "    }\n",
              "  }\n",
              "</style>\n",
              "\n",
              "  <script>\n",
              "    async function quickchart(key) {\n",
              "      const quickchartButtonEl =\n",
              "        document.querySelector('#' + key + ' button');\n",
              "      quickchartButtonEl.disabled = true;  // To prevent multiple clicks.\n",
              "      quickchartButtonEl.classList.add('colab-df-spinner');\n",
              "      try {\n",
              "        const charts = await google.colab.kernel.invokeFunction(\n",
              "            'suggestCharts', [key], {});\n",
              "      } catch (error) {\n",
              "        console.error('Error during call to suggestCharts:', error);\n",
              "      }\n",
              "      quickchartButtonEl.classList.remove('colab-df-spinner');\n",
              "      quickchartButtonEl.classList.add('colab-df-quickchart-complete');\n",
              "    }\n",
              "    (() => {\n",
              "      let quickchartButtonEl =\n",
              "        document.querySelector('#df-b40b7e40-fd05-41b1-8f11-21ce8db51073 button');\n",
              "      quickchartButtonEl.style.display =\n",
              "        google.colab.kernel.accessAllowed ? 'block' : 'none';\n",
              "    })();\n",
              "  </script>\n",
              "</div>\n",
              "    </div>\n",
              "  </div>\n"
            ],
            "application/vnd.google.colaboratory.intrinsic+json": {
              "type": "dataframe",
              "variable_name": "train_data_filtered",
              "summary": "{\n  \"name\": \"train_data_filtered\",\n  \"rows\": 5000,\n  \"fields\": [\n    {\n      \"column\": \"Value\",\n      \"properties\": {\n        \"dtype\": \"number\",\n        \"std\": 125.15500007326867,\n        \"min\": 0.28125,\n        \"max\": 685.5,\n        \"num_unique_values\": 2001,\n        \"samples\": [\n          229.125,\n          86.0,\n          347.375\n        ],\n        \"semantic_type\": \"\",\n        \"description\": \"\"\n      }\n    },\n    {\n      \"column\": \"S\",\n      \"properties\": {\n        \"dtype\": \"number\",\n        \"std\": 56.05152255114043,\n        \"min\": 1264.74,\n        \"max\": 1527.46,\n        \"num_unique_values\": 250,\n        \"samples\": [\n          1455.14,\n          1445.57,\n          1400.14\n        ],\n        \"semantic_type\": \"\",\n        \"description\": \"\"\n      }\n    },\n    {\n      \"column\": \"K\",\n      \"properties\": {\n        \"dtype\": \"number\",\n        \"std\": 172,\n        \"min\": 750,\n        \"max\": 1995,\n        \"num_unique_values\": 73,\n        \"samples\": [\n          1350,\n          1360,\n          1550\n        ],\n        \"semantic_type\": \"\",\n        \"description\": \"\"\n      }\n    },\n    {\n      \"column\": \"tau\",\n      \"properties\": {\n        \"dtype\": \"number\",\n        \"std\": 0.23118440981502342,\n        \"min\": 0.0849315068493151,\n        \"max\": 0.989041095890411,\n        \"num_unique_values\": 237,\n        \"samples\": [\n          0.931506849315068,\n          0.175342465753425,\n          0.654794520547945\n        ],\n        \"semantic_type\": \"\",\n        \"description\": \"\"\n      }\n    },\n    {\n      \"column\": \"r\",\n      \"properties\": {\n        \"dtype\": \"number\",\n        \"std\": 0.0004483820349767127,\n        \"min\": 0.0106,\n        \"max\": 0.0129,\n        \"num_unique_values\": 22,\n        \"samples\": [\n          0.0116,\n          0.0118,\n          0.0109\n        ],\n        \"semantic_type\": \"\",\n        \"description\": \"\"\n      }\n    },\n    {\n      \"column\": \"BS\",\n      \"properties\": {\n        \"dtype\": \"category\",\n        \"num_unique_values\": 2,\n        \"samples\": [\n          \"Over\",\n          \"Under\"\n        ],\n        \"semantic_type\": \"\",\n        \"description\": \"\"\n      }\n    },\n    {\n      \"column\": \"Over\",\n      \"properties\": {\n        \"dtype\": \"number\",\n        \"std\": 0,\n        \"min\": 0,\n        \"max\": 1,\n        \"num_unique_values\": 2,\n        \"samples\": [\n          1,\n          0\n        ],\n        \"semantic_type\": \"\",\n        \"description\": \"\"\n      }\n    }\n  ]\n}"
            }
          },
          "metadata": {},
          "execution_count": 139
        }
      ]
    },
    {
      "cell_type": "code",
      "source": [
        "# correlation matrix\n",
        "corr_matrix = train_data_filtered.drop('BS', axis=1).corr()\n",
        "corr_matrix"
      ],
      "metadata": {
        "colab": {
          "base_uri": "https://localhost:8080/",
          "height": 238
        },
        "id": "g6VvplOn4RAJ",
        "outputId": "68991cd9-74ee-43fe-9a46-c4ab10c5167e"
      },
      "execution_count": null,
      "outputs": [
        {
          "output_type": "execute_result",
          "data": {
            "text/plain": [
              "          Value         S         K       tau         r      Over\n",
              "Value  1.000000  0.148884 -0.880802  0.255343 -0.163317 -0.486149\n",
              "S      0.148884  1.000000  0.128228 -0.020299 -0.983740  0.061290\n",
              "K     -0.880802  0.128228  1.000000  0.022948 -0.111107  0.537382\n",
              "tau    0.255343 -0.020299  0.022948  1.000000  0.010245 -0.172979\n",
              "r     -0.163317 -0.983740 -0.111107  0.010245  1.000000 -0.046926\n",
              "Over  -0.486149  0.061290  0.537382 -0.172979 -0.046926  1.000000"
            ],
            "text/html": [
              "\n",
              "  <div id=\"df-5dfaab49-8c3a-477d-a996-506155278239\" class=\"colab-df-container\">\n",
              "    <div>\n",
              "<style scoped>\n",
              "    .dataframe tbody tr th:only-of-type {\n",
              "        vertical-align: middle;\n",
              "    }\n",
              "\n",
              "    .dataframe tbody tr th {\n",
              "        vertical-align: top;\n",
              "    }\n",
              "\n",
              "    .dataframe thead th {\n",
              "        text-align: right;\n",
              "    }\n",
              "</style>\n",
              "<table border=\"1\" class=\"dataframe\">\n",
              "  <thead>\n",
              "    <tr style=\"text-align: right;\">\n",
              "      <th></th>\n",
              "      <th>Value</th>\n",
              "      <th>S</th>\n",
              "      <th>K</th>\n",
              "      <th>tau</th>\n",
              "      <th>r</th>\n",
              "      <th>Over</th>\n",
              "    </tr>\n",
              "  </thead>\n",
              "  <tbody>\n",
              "    <tr>\n",
              "      <th>Value</th>\n",
              "      <td>1.000000</td>\n",
              "      <td>0.148884</td>\n",
              "      <td>-0.880802</td>\n",
              "      <td>0.255343</td>\n",
              "      <td>-0.163317</td>\n",
              "      <td>-0.486149</td>\n",
              "    </tr>\n",
              "    <tr>\n",
              "      <th>S</th>\n",
              "      <td>0.148884</td>\n",
              "      <td>1.000000</td>\n",
              "      <td>0.128228</td>\n",
              "      <td>-0.020299</td>\n",
              "      <td>-0.983740</td>\n",
              "      <td>0.061290</td>\n",
              "    </tr>\n",
              "    <tr>\n",
              "      <th>K</th>\n",
              "      <td>-0.880802</td>\n",
              "      <td>0.128228</td>\n",
              "      <td>1.000000</td>\n",
              "      <td>0.022948</td>\n",
              "      <td>-0.111107</td>\n",
              "      <td>0.537382</td>\n",
              "    </tr>\n",
              "    <tr>\n",
              "      <th>tau</th>\n",
              "      <td>0.255343</td>\n",
              "      <td>-0.020299</td>\n",
              "      <td>0.022948</td>\n",
              "      <td>1.000000</td>\n",
              "      <td>0.010245</td>\n",
              "      <td>-0.172979</td>\n",
              "    </tr>\n",
              "    <tr>\n",
              "      <th>r</th>\n",
              "      <td>-0.163317</td>\n",
              "      <td>-0.983740</td>\n",
              "      <td>-0.111107</td>\n",
              "      <td>0.010245</td>\n",
              "      <td>1.000000</td>\n",
              "      <td>-0.046926</td>\n",
              "    </tr>\n",
              "    <tr>\n",
              "      <th>Over</th>\n",
              "      <td>-0.486149</td>\n",
              "      <td>0.061290</td>\n",
              "      <td>0.537382</td>\n",
              "      <td>-0.172979</td>\n",
              "      <td>-0.046926</td>\n",
              "      <td>1.000000</td>\n",
              "    </tr>\n",
              "  </tbody>\n",
              "</table>\n",
              "</div>\n",
              "    <div class=\"colab-df-buttons\">\n",
              "\n",
              "  <div class=\"colab-df-container\">\n",
              "    <button class=\"colab-df-convert\" onclick=\"convertToInteractive('df-5dfaab49-8c3a-477d-a996-506155278239')\"\n",
              "            title=\"Convert this dataframe to an interactive table.\"\n",
              "            style=\"display:none;\">\n",
              "\n",
              "  <svg xmlns=\"http://www.w3.org/2000/svg\" height=\"24px\" viewBox=\"0 -960 960 960\">\n",
              "    <path d=\"M120-120v-720h720v720H120Zm60-500h600v-160H180v160Zm220 220h160v-160H400v160Zm0 220h160v-160H400v160ZM180-400h160v-160H180v160Zm440 0h160v-160H620v160ZM180-180h160v-160H180v160Zm440 0h160v-160H620v160Z\"/>\n",
              "  </svg>\n",
              "    </button>\n",
              "\n",
              "  <style>\n",
              "    .colab-df-container {\n",
              "      display:flex;\n",
              "      gap: 12px;\n",
              "    }\n",
              "\n",
              "    .colab-df-convert {\n",
              "      background-color: #E8F0FE;\n",
              "      border: none;\n",
              "      border-radius: 50%;\n",
              "      cursor: pointer;\n",
              "      display: none;\n",
              "      fill: #1967D2;\n",
              "      height: 32px;\n",
              "      padding: 0 0 0 0;\n",
              "      width: 32px;\n",
              "    }\n",
              "\n",
              "    .colab-df-convert:hover {\n",
              "      background-color: #E2EBFA;\n",
              "      box-shadow: 0px 1px 2px rgba(60, 64, 67, 0.3), 0px 1px 3px 1px rgba(60, 64, 67, 0.15);\n",
              "      fill: #174EA6;\n",
              "    }\n",
              "\n",
              "    .colab-df-buttons div {\n",
              "      margin-bottom: 4px;\n",
              "    }\n",
              "\n",
              "    [theme=dark] .colab-df-convert {\n",
              "      background-color: #3B4455;\n",
              "      fill: #D2E3FC;\n",
              "    }\n",
              "\n",
              "    [theme=dark] .colab-df-convert:hover {\n",
              "      background-color: #434B5C;\n",
              "      box-shadow: 0px 1px 3px 1px rgba(0, 0, 0, 0.15);\n",
              "      filter: drop-shadow(0px 1px 2px rgba(0, 0, 0, 0.3));\n",
              "      fill: #FFFFFF;\n",
              "    }\n",
              "  </style>\n",
              "\n",
              "    <script>\n",
              "      const buttonEl =\n",
              "        document.querySelector('#df-5dfaab49-8c3a-477d-a996-506155278239 button.colab-df-convert');\n",
              "      buttonEl.style.display =\n",
              "        google.colab.kernel.accessAllowed ? 'block' : 'none';\n",
              "\n",
              "      async function convertToInteractive(key) {\n",
              "        const element = document.querySelector('#df-5dfaab49-8c3a-477d-a996-506155278239');\n",
              "        const dataTable =\n",
              "          await google.colab.kernel.invokeFunction('convertToInteractive',\n",
              "                                                    [key], {});\n",
              "        if (!dataTable) return;\n",
              "\n",
              "        const docLinkHtml = 'Like what you see? Visit the ' +\n",
              "          '<a target=\"_blank\" href=https://colab.research.google.com/notebooks/data_table.ipynb>data table notebook</a>'\n",
              "          + ' to learn more about interactive tables.';\n",
              "        element.innerHTML = '';\n",
              "        dataTable['output_type'] = 'display_data';\n",
              "        await google.colab.output.renderOutput(dataTable, element);\n",
              "        const docLink = document.createElement('div');\n",
              "        docLink.innerHTML = docLinkHtml;\n",
              "        element.appendChild(docLink);\n",
              "      }\n",
              "    </script>\n",
              "  </div>\n",
              "\n",
              "\n",
              "<div id=\"df-1aa19150-5449-4991-ab21-a4fcb9b1877f\">\n",
              "  <button class=\"colab-df-quickchart\" onclick=\"quickchart('df-1aa19150-5449-4991-ab21-a4fcb9b1877f')\"\n",
              "            title=\"Suggest charts\"\n",
              "            style=\"display:none;\">\n",
              "\n",
              "<svg xmlns=\"http://www.w3.org/2000/svg\" height=\"24px\"viewBox=\"0 0 24 24\"\n",
              "     width=\"24px\">\n",
              "    <g>\n",
              "        <path d=\"M19 3H5c-1.1 0-2 .9-2 2v14c0 1.1.9 2 2 2h14c1.1 0 2-.9 2-2V5c0-1.1-.9-2-2-2zM9 17H7v-7h2v7zm4 0h-2V7h2v10zm4 0h-2v-4h2v4z\"/>\n",
              "    </g>\n",
              "</svg>\n",
              "  </button>\n",
              "\n",
              "<style>\n",
              "  .colab-df-quickchart {\n",
              "      --bg-color: #E8F0FE;\n",
              "      --fill-color: #1967D2;\n",
              "      --hover-bg-color: #E2EBFA;\n",
              "      --hover-fill-color: #174EA6;\n",
              "      --disabled-fill-color: #AAA;\n",
              "      --disabled-bg-color: #DDD;\n",
              "  }\n",
              "\n",
              "  [theme=dark] .colab-df-quickchart {\n",
              "      --bg-color: #3B4455;\n",
              "      --fill-color: #D2E3FC;\n",
              "      --hover-bg-color: #434B5C;\n",
              "      --hover-fill-color: #FFFFFF;\n",
              "      --disabled-bg-color: #3B4455;\n",
              "      --disabled-fill-color: #666;\n",
              "  }\n",
              "\n",
              "  .colab-df-quickchart {\n",
              "    background-color: var(--bg-color);\n",
              "    border: none;\n",
              "    border-radius: 50%;\n",
              "    cursor: pointer;\n",
              "    display: none;\n",
              "    fill: var(--fill-color);\n",
              "    height: 32px;\n",
              "    padding: 0;\n",
              "    width: 32px;\n",
              "  }\n",
              "\n",
              "  .colab-df-quickchart:hover {\n",
              "    background-color: var(--hover-bg-color);\n",
              "    box-shadow: 0 1px 2px rgba(60, 64, 67, 0.3), 0 1px 3px 1px rgba(60, 64, 67, 0.15);\n",
              "    fill: var(--button-hover-fill-color);\n",
              "  }\n",
              "\n",
              "  .colab-df-quickchart-complete:disabled,\n",
              "  .colab-df-quickchart-complete:disabled:hover {\n",
              "    background-color: var(--disabled-bg-color);\n",
              "    fill: var(--disabled-fill-color);\n",
              "    box-shadow: none;\n",
              "  }\n",
              "\n",
              "  .colab-df-spinner {\n",
              "    border: 2px solid var(--fill-color);\n",
              "    border-color: transparent;\n",
              "    border-bottom-color: var(--fill-color);\n",
              "    animation:\n",
              "      spin 1s steps(1) infinite;\n",
              "  }\n",
              "\n",
              "  @keyframes spin {\n",
              "    0% {\n",
              "      border-color: transparent;\n",
              "      border-bottom-color: var(--fill-color);\n",
              "      border-left-color: var(--fill-color);\n",
              "    }\n",
              "    20% {\n",
              "      border-color: transparent;\n",
              "      border-left-color: var(--fill-color);\n",
              "      border-top-color: var(--fill-color);\n",
              "    }\n",
              "    30% {\n",
              "      border-color: transparent;\n",
              "      border-left-color: var(--fill-color);\n",
              "      border-top-color: var(--fill-color);\n",
              "      border-right-color: var(--fill-color);\n",
              "    }\n",
              "    40% {\n",
              "      border-color: transparent;\n",
              "      border-right-color: var(--fill-color);\n",
              "      border-top-color: var(--fill-color);\n",
              "    }\n",
              "    60% {\n",
              "      border-color: transparent;\n",
              "      border-right-color: var(--fill-color);\n",
              "    }\n",
              "    80% {\n",
              "      border-color: transparent;\n",
              "      border-right-color: var(--fill-color);\n",
              "      border-bottom-color: var(--fill-color);\n",
              "    }\n",
              "    90% {\n",
              "      border-color: transparent;\n",
              "      border-bottom-color: var(--fill-color);\n",
              "    }\n",
              "  }\n",
              "</style>\n",
              "\n",
              "  <script>\n",
              "    async function quickchart(key) {\n",
              "      const quickchartButtonEl =\n",
              "        document.querySelector('#' + key + ' button');\n",
              "      quickchartButtonEl.disabled = true;  // To prevent multiple clicks.\n",
              "      quickchartButtonEl.classList.add('colab-df-spinner');\n",
              "      try {\n",
              "        const charts = await google.colab.kernel.invokeFunction(\n",
              "            'suggestCharts', [key], {});\n",
              "      } catch (error) {\n",
              "        console.error('Error during call to suggestCharts:', error);\n",
              "      }\n",
              "      quickchartButtonEl.classList.remove('colab-df-spinner');\n",
              "      quickchartButtonEl.classList.add('colab-df-quickchart-complete');\n",
              "    }\n",
              "    (() => {\n",
              "      let quickchartButtonEl =\n",
              "        document.querySelector('#df-1aa19150-5449-4991-ab21-a4fcb9b1877f button');\n",
              "      quickchartButtonEl.style.display =\n",
              "        google.colab.kernel.accessAllowed ? 'block' : 'none';\n",
              "    })();\n",
              "  </script>\n",
              "</div>\n",
              "    </div>\n",
              "  </div>\n"
            ],
            "application/vnd.google.colaboratory.intrinsic+json": {
              "type": "dataframe",
              "variable_name": "corr_matrix",
              "summary": "{\n  \"name\": \"corr_matrix\",\n  \"rows\": 6,\n  \"fields\": [\n    {\n      \"column\": \"Value\",\n      \"properties\": {\n        \"dtype\": \"number\",\n        \"std\": 0.6516970407208804,\n        \"min\": -0.8808024407765589,\n        \"max\": 1.0,\n        \"num_unique_values\": 6,\n        \"samples\": [\n          1.0,\n          0.14888392027178807,\n          -0.4861493248580554\n        ],\n        \"semantic_type\": \"\",\n        \"description\": \"\"\n      }\n    },\n    {\n      \"column\": \"S\",\n      \"properties\": {\n        \"dtype\": \"number\",\n        \"std\": 0.6311717230462415,\n        \"min\": -0.9837400368387056,\n        \"max\": 1.0,\n        \"num_unique_values\": 6,\n        \"samples\": [\n          0.14888392027178807,\n          1.0,\n          0.061289998616280504\n        ],\n        \"semantic_type\": \"\",\n        \"description\": \"\"\n      }\n    },\n    {\n      \"column\": \"K\",\n      \"properties\": {\n        \"dtype\": \"number\",\n        \"std\": 0.63451078730361,\n        \"min\": -0.8808024407765589,\n        \"max\": 1.0,\n        \"num_unique_values\": 6,\n        \"samples\": [\n          -0.8808024407765589,\n          0.12822758573950463,\n          0.5373819440490676\n        ],\n        \"semantic_type\": \"\",\n        \"description\": \"\"\n      }\n    },\n    {\n      \"column\": \"tau\",\n      \"properties\": {\n        \"dtype\": \"number\",\n        \"std\": 0.42337540430255943,\n        \"min\": -0.1729788148480193,\n        \"max\": 1.0,\n        \"num_unique_values\": 6,\n        \"samples\": [\n          0.2553426675245025,\n          -0.020299357152436963,\n          -0.1729788148480193\n        ],\n        \"semantic_type\": \"\",\n        \"description\": \"\"\n      }\n    },\n    {\n      \"column\": \"r\",\n      \"properties\": {\n        \"dtype\": \"number\",\n        \"std\": 0.6315979524297191,\n        \"min\": -0.9837400368387056,\n        \"max\": 1.0,\n        \"num_unique_values\": 6,\n        \"samples\": [\n          -0.1633173105421114,\n          -0.9837400368387056,\n          -0.04692566023197692\n        ],\n        \"semantic_type\": \"\",\n        \"description\": \"\"\n      }\n    },\n    {\n      \"column\": \"Over\",\n      \"properties\": {\n        \"dtype\": \"number\",\n        \"std\": 0.534454141525175,\n        \"min\": -0.4861493248580554,\n        \"max\": 1.0,\n        \"num_unique_values\": 6,\n        \"samples\": [\n          -0.4861493248580554,\n          0.061289998616280504,\n          1.0\n        ],\n        \"semantic_type\": \"\",\n        \"description\": \"\"\n      }\n    }\n  ]\n}"
            }
          },
          "metadata": {},
          "execution_count": 140
        }
      ]
    },
    {
      "cell_type": "code",
      "source": [
        "# heatmap for correlation matrix\n",
        "sns.heatmap(corr_matrix, annot=True, cmap='coolwarm', fmt=\".2f\")\n",
        "plt.title('Correlation Matrix for Train_Data')\n",
        "plt.show()"
      ],
      "metadata": {
        "colab": {
          "base_uri": "https://localhost:8080/",
          "height": 452
        },
        "id": "ZJuqayCT5NCK",
        "outputId": "6a3234cd-d74f-419b-a2e7-d00da60d2157"
      },
      "execution_count": null,
      "outputs": [
        {
          "output_type": "display_data",
          "data": {
            "text/plain": [
              "<Figure size 640x480 with 2 Axes>"
            ],
            "image/png": "[encoded data removed]"
          },
          "metadata": {}
        }
      ]
    },
    {
      "cell_type": "markdown",
      "source": [
        "**Cross Validation for Linear Regression**"
      ],
      "metadata": {
        "id": "s1yVeGbdnO5j"
      }
    },
    {
      "cell_type": "code",
      "source": [
        "from sklearn.model_selection import KFold\n",
        "from sklearn.linear_model import LinearRegression\n",
        "from sklearn.model_selection import cross_val_score"
      ],
      "metadata": {
        "id": "gz1Xmfnq5elq"
      },
      "execution_count": null,
      "outputs": []
    },
    {
      "cell_type": "code",
      "source": [
        "kfolds_regresssion = KFold(n_splits = 10, random_state = 0, shuffle = True)\n",
        "linear_regresssion_model = LinearRegression()"
      ],
      "metadata": {
        "id": "tswmHSi779Ih"
      },
      "execution_count": null,
      "outputs": []
    },
    {
      "cell_type": "code",
      "source": [
        "r2_model_1_cv = cross_val_score(linear_regresssion_model, train_data[['S','K','tau','r']], train_data['Value'], cv=kfolds_regresssion)\n",
        "\n",
        "print(\"Linear Regression: \\n\")\n",
        "print(\"r squared of 10-folds:\",r2_model_1_cv,\"(mean r squared:\",np.mean(r2_model_1_cv),\")\")"
      ],
      "metadata": {
        "colab": {
          "base_uri": "https://localhost:8080/"
        },
        "id": "pFPnVhtw_8PU",
        "outputId": "27967fa2-ad0c-4bc3-eb4e-576bd63bc083"
      },
      "execution_count": null,
      "outputs": [
        {
          "output_type": "stream",
          "name": "stdout",
          "text": [
            "Linear Regression: \n",
            "\n",
            "r squared of 10-folds: [0.91778548 0.92251261 0.93828949 0.92424916 0.92617908 0.91753753\n",
            " 0.93900446 0.91267521 0.91717563 0.92625406] (mean r squared: 0.9241662722977286 )\n"
          ]
        }
      ]
    },
    {
      "cell_type": "code",
      "source": [
        "neg_mse_model_1_cv = cross_val_score(linear_regresssion_model, train_data[['S','K','tau','r']], train_data['Value'],cv=kfolds_regresssion,scoring = 'neg_mean_squared_error')\n",
        "\n",
        "print(\"Linear Regression: \\n\")\n",
        "print(\"mean_squared_error of 10-folds:\",-neg_mse_model_1_cv,\"(mean MSE:\",-np.mean(neg_mse_model_1_cv),\")\")"
      ],
      "metadata": {
        "id": "FeJVo3iQA50x",
        "colab": {
          "base_uri": "https://localhost:8080/"
        },
        "outputId": "a819dcf5-e6a8-4454-e5de-5a4015588017"
      },
      "execution_count": null,
      "outputs": [
        {
          "output_type": "stream",
          "name": "stdout",
          "text": [
            "Linear Regression: \n",
            "\n",
            "mean_squared_error of 10-folds: [1145.82301356 1165.94301816 1011.43221788 1345.25354726 1120.19846866\n",
            " 1319.25573741 1090.91046687 1327.31698885 1271.48561739  994.8002454 ] (mean MSE: 1179.2419321454786 )\n"
          ]
        }
      ]
    },
    {
      "cell_type": "markdown",
      "source": [
        "**Cross Validation for KNN Regression**\n"
      ],
      "metadata": {
        "id": "Id7qnlx3zHgy"
      }
    },
    {
      "cell_type": "code",
      "source": [
        "from sklearn.neighbors import KNeighborsRegressor\n",
        "from sklearn.metrics import mean_squared_error"
      ],
      "metadata": {
        "id": "LWfPELOfEC65"
      },
      "execution_count": null,
      "outputs": []
    },
    {
      "cell_type": "code",
      "source": [
        "# Initialize KNN regressor\n",
        "knn_regressor = KNeighborsRegressor(n_neighbors=5)"
      ],
      "metadata": {
        "id": "ekLoTrXYk4d1"
      },
      "execution_count": null,
      "outputs": []
    },
    {
      "cell_type": "code",
      "source": [
        "r2_model_4_cv = cross_val_score(knn_regressor, train_data[['S','K','tau','r']], train_data['Value'], cv=kfolds_regresssion)\n",
        "\n",
        "print(\"KNN Regression: \\n\")\n",
        "print(\"r squared of 10-folds:\",r2_model_4_cv,\"(mean r squared:\",np.mean(r2_model_4_cv),\")\")"
      ],
      "metadata": {
        "id": "i1FwSCt-EEwF",
        "colab": {
          "base_uri": "https://localhost:8080/"
        },
        "outputId": "0fefdc25-f273-4910-a46e-bbae95eb8414"
      },
      "execution_count": null,
      "outputs": [
        {
          "output_type": "stream",
          "name": "stdout",
          "text": [
            "KNN Regression: \n",
            "\n",
            "r squared of 10-folds: [0.9425639  0.93913343 0.94337626 0.96010063 0.94526219 0.95110753\n",
            " 0.96141654 0.94884171 0.95569633 0.9359026 ] (mean r squared: 0.9483401124016722 )\n"
          ]
        }
      ]
    },
    {
      "cell_type": "code",
      "source": [
        "neg_mse_model_4_cv = cross_val_score(knn_regressor, train_data[['S','K','tau','r']], train_data['Value'],cv=kfolds_regresssion,scoring = 'neg_mean_squared_error')\n",
        "\n",
        "print(\"KNN Regression: \\n\")\n",
        "print(\"mean_squared_error of 10-folds:\",-neg_mse_model_4_cv,\"(mean MSE:\",-np.mean(neg_mse_model_4_cv),\")\")"
      ],
      "metadata": {
        "colab": {
          "base_uri": "https://localhost:8080/"
        },
        "id": "42kTfrflAe6G",
        "outputId": "5093d634-0f96-46fa-ffc0-7fe0fb801c30"
      },
      "execution_count": null,
      "outputs": [
        {
          "output_type": "stream",
          "name": "stdout",
          "text": [
            "KNN Regression: \n",
            "\n",
            "mean_squared_error of 10-folds: [800.48638109 915.85164789 928.06044391 708.57001188 830.62108172\n",
            " 782.19425445 690.06841523 777.59438055 680.13170813 864.64565367] (mean MSE: 797.8223978515625 )\n"
          ]
        }
      ]
    },
    {
      "cell_type": "markdown",
      "source": [
        "**Cross Validation for Ridge Regression**"
      ],
      "metadata": {
        "id": "nuB9H058t2Zh"
      }
    },
    {
      "cell_type": "code",
      "source": [
        "from sklearn.linear_model import Ridge, RidgeCV, Lasso, LassoCV\n",
        "from sklearn.metrics import mean_squared_error\n",
        "from sklearn.model_selection import train_test_split"
      ],
      "metadata": {
        "id": "wlyOgIe_teLQ"
      },
      "execution_count": null,
      "outputs": []
    },
    {
      "cell_type": "code",
      "source": [
        "## standardize the data\n",
        "from sklearn.preprocessing import StandardScaler\n",
        "\n",
        "columns_to_scale = train_data.drop('BS', axis=1).columns\n",
        "stdsc = StandardScaler()\n",
        "train_data_std = stdsc.fit_transform(train_data.drop('BS', axis=1))\n",
        "train_data_std_df = pd.DataFrame(train_data_std, columns=columns_to_scale)\n",
        "X_train_std = train_data_std_df[['S','K','tau','r']]\n",
        "y_train = train_data['Value']"
      ],
      "metadata": {
        "id": "0RgD9O6Xt1Tb"
      },
      "execution_count": null,
      "outputs": []
    },
    {
      "cell_type": "code",
      "source": [
        "##tuning alpha\n",
        "alphas = 10**np.linspace(10,-2,100)*0.5"
      ],
      "metadata": {
        "id": "jqdmkoLruKGP"
      },
      "execution_count": null,
      "outputs": []
    },
    {
      "cell_type": "code",
      "source": [
        "ridgecv = RidgeCV(alphas=alphas, scoring='r2', cv=kfolds_regresssion)\n",
        "ridgecv.fit(X_train_std, y_train)\n",
        "ridgecv.alpha_"
      ],
      "metadata": {
        "colab": {
          "base_uri": "https://localhost:8080/"
        },
        "id": "Tiu9VTvguP6G",
        "outputId": "4655af6f-9cd1-46fe-eeab-e23b250f810c"
      },
      "execution_count": null,
      "outputs": [
        {
          "output_type": "execute_result",
          "data": {
            "text/plain": [
              "4.055654153948428"
            ]
          },
          "metadata": {},
          "execution_count": 153
        }
      ]
    },
    {
      "cell_type": "code",
      "source": [
        "ridge = Ridge(alpha=ridgecv.alpha_)"
      ],
      "metadata": {
        "id": "3fPZxdm8ujwe"
      },
      "execution_count": null,
      "outputs": []
    },
    {
      "cell_type": "code",
      "source": [
        "r2_model_5_cv = cross_val_score(ridge, X_train_std, train_data['Value'], cv=kfolds_regresssion)\n",
        "\n",
        "print(\"Ridge Regression: \\n\")\n",
        "print(\"r squared of 10-folds:\",r2_model_5_cv,\"(mean r squared:\",np.mean(r2_model_5_cv),\")\")"
      ],
      "metadata": {
        "colab": {
          "base_uri": "https://localhost:8080/"
        },
        "id": "3D2qKyyQunA4",
        "outputId": "a98f426f-923e-4463-89c1-199f94832c34"
      },
      "execution_count": null,
      "outputs": [
        {
          "output_type": "stream",
          "name": "stdout",
          "text": [
            "Ridge Regression: \n",
            "\n",
            "r squared of 10-folds: [0.91791835 0.92248389 0.93821575 0.92424968 0.9261862  0.91753161\n",
            " 0.93891333 0.91271755 0.9171937  0.926286  ] (mean r squared: 0.9241696064137036 )\n"
          ]
        }
      ]
    },
    {
      "cell_type": "markdown",
      "source": [
        "**Cross Validation for Lasso**"
      ],
      "metadata": {
        "id": "SOLuZ9j3v6-m"
      }
    },
    {
      "cell_type": "code",
      "source": [
        "from sklearn.linear_model import Lasso"
      ],
      "metadata": {
        "id": "RdYEFO9az5Xj"
      },
      "execution_count": null,
      "outputs": []
    },
    {
      "cell_type": "code",
      "source": [
        "lasso = Lasso(alpha=ridgecv.alpha_)"
      ],
      "metadata": {
        "id": "z3oPBEHlz6du"
      },
      "execution_count": null,
      "outputs": []
    },
    {
      "cell_type": "code",
      "source": [
        "r2_model_8_cv = cross_val_score(lasso, X_train_std, train_data['Value'], cv=kfolds_regresssion)\n",
        "\n",
        "print(\"Lasso Regression: \\n\")\n",
        "print(\"r squared of 10-folds:\",r2_model_8_cv,\"(mean r squared:\",np.mean(r2_model_8_cv),\")\")"
      ],
      "metadata": {
        "colab": {
          "base_uri": "https://localhost:8080/"
        },
        "id": "JKR4B9rJ0BkH",
        "outputId": "6f0a0138-d3b7-4451-a98f-a1c808797faa"
      },
      "execution_count": null,
      "outputs": [
        {
          "output_type": "stream",
          "name": "stdout",
          "text": [
            "Lasso Regression: \n",
            "\n",
            "r squared of 10-folds: [0.91692337 0.91801308 0.93372564 0.91830759 0.92142289 0.91336784\n",
            " 0.93413911 0.91252059 0.91552891 0.92267122] (mean r squared: 0.9206620240140324 )\n"
          ]
        }
      ]
    },
    {
      "cell_type": "markdown",
      "source": [
        "**Cross Validation for Decision Tree**"
      ],
      "metadata": {
        "id": "P5hrpEsQyJtj"
      }
    },
    {
      "cell_type": "code",
      "source": [
        "from sklearn import tree\n",
        "from sklearn.tree import DecisionTreeRegressor\n",
        "from sklearn.metrics import r2_score"
      ],
      "metadata": {
        "id": "cotJZsBLx-sz"
      },
      "execution_count": null,
      "outputs": []
    },
    {
      "cell_type": "code",
      "source": [
        "X_train = train_data[['S','K','tau','r']]"
      ],
      "metadata": {
        "id": "IqGE3QQ7z0Lu"
      },
      "execution_count": null,
      "outputs": []
    },
    {
      "cell_type": "code",
      "source": [
        "# Assuming X and y are your feature matrix and target vector\n",
        "# Initialize the decision tree regressor\n",
        "tree_reg = DecisionTreeRegressor(random_state=0)\n",
        "\n",
        "# Fit the decision tree regressor to the training data\n",
        "tree_reg.fit(X_train, y_train)\n",
        "\n",
        "# Calculate the cost-complexity pruning path\n",
        "path = tree_reg.cost_complexity_pruning_path(X_train, y_train)\n",
        "ccp_alphas = path.ccp_alphas"
      ],
      "metadata": {
        "id": "oQVcp1rU54jQ"
      },
      "execution_count": null,
      "outputs": []
    },
    {
      "cell_type": "code",
      "source": [
        "len(ccp_alphas)\n",
        "\n",
        "##Having 3683 values suggests our decision tree might be overfitting the training data, hence, we chose to use the default value for ccp_alpha (no pruning) for our decision tree regression model."
      ],
      "metadata": {
        "colab": {
          "base_uri": "https://localhost:8080/"
        },
        "id": "AZbgs0fd6Xrs",
        "outputId": "cc01ddb1-2d6d-4486-c44c-a55ffccb83e2"
      },
      "execution_count": null,
      "outputs": [
        {
          "output_type": "execute_result",
          "data": {
            "text/plain": [
              "3683"
            ]
          },
          "metadata": {},
          "execution_count": 159
        }
      ]
    },
    {
      "cell_type": "code",
      "source": [
        "decisiontree_regressor = DecisionTreeRegressor(random_state=0)\n",
        "r2_model_6_cv = cross_val_score(decisiontree_regressor, train_data[['S','K','tau','r']], train_data['Value'], cv=kfolds_regresssion)\n",
        "\n",
        "print(\"Decision Tree Regression: \\n\")\n",
        "print(\"r squared of 10-folds:\",r2_model_6_cv,\"(mean r squared:\",np.mean(r2_model_6_cv),\")\")"
      ],
      "metadata": {
        "colab": {
          "base_uri": "https://localhost:8080/"
        },
        "id": "ap2WTT5n4XCy",
        "outputId": "e437387e-194a-4e3f-f8c8-3c52e9534437"
      },
      "execution_count": null,
      "outputs": [
        {
          "output_type": "stream",
          "name": "stdout",
          "text": [
            "Decision Tree Regression: \n",
            "\n",
            "r squared of 10-folds: [0.99432973 0.99209483 0.9908432  0.9915095  0.99366586 0.99381148\n",
            " 0.99367596 0.9942623  0.99461532 0.99195008] (mean r squared: 0.9930758259176281 )\n"
          ]
        }
      ]
    },
    {
      "cell_type": "code",
      "source": [
        "neg_mse_model_6_cv = cross_val_score(decisiontree_regressor, train_data[['S','K','tau','r']], train_data['Value'],cv=kfolds_regresssion,scoring = 'neg_mean_squared_error')\n",
        "\n",
        "print(\"Decision Tree Regression: \\n\")\n",
        "print(\"mean_squared_error of 10-folds:\",-neg_mse_model_6_cv,\"(mean MSE:\",-np.mean(neg_mse_model_6_cv),\")\")"
      ],
      "metadata": {
        "colab": {
          "base_uri": "https://localhost:8080/"
        },
        "id": "y1nNEJzyApQI",
        "outputId": "333a3535-95c0-492c-fb9a-dd861346fa98"
      },
      "execution_count": null,
      "outputs": [
        {
          "output_type": "stream",
          "name": "stdout",
          "text": [
            "Decision Tree Regression: \n",
            "\n",
            "mean_squared_error of 10-folds: [ 79.02642969 118.94803906 150.07958008 150.7821875   96.11773633\n",
            "  99.00557422 113.10593945  87.2117832   82.66332422 108.58989258] (mean MSE: 108.5530486328125 )\n"
          ]
        }
      ]
    },
    {
      "cell_type": "markdown",
      "source": [
        "**Cross Validation for Random Forest**"
      ],
      "metadata": {
        "id": "lokIGWHH8Qo2"
      }
    },
    {
      "cell_type": "code",
      "source": [
        "from sklearn.ensemble import RandomForestRegressor"
      ],
      "metadata": {
        "id": "_pTBjv-78etv"
      },
      "execution_count": null,
      "outputs": []
    },
    {
      "cell_type": "code",
      "source": [
        "randomforest_regressor = RandomForestRegressor(n_estimators=100, random_state= 0, max_features = 3)\n",
        "r2_model_7_cv = cross_val_score(randomforest_regressor, train_data[['S','K','tau','r']], train_data['Value'], cv=kfolds_regresssion)\n",
        "\n",
        "print(\"Random Forest Regression: \\n\")\n",
        "print(\"r squared of 10-folds:\",r2_model_7_cv,\"(mean r squared:\",np.mean(r2_model_7_cv),\")\")"
      ],
      "metadata": {
        "colab": {
          "base_uri": "https://localhost:8080/"
        },
        "id": "haJgOWdv88pf",
        "outputId": "bc5ef3d3-c426-4b9c-c68d-0fdd5c26b8f6"
      },
      "execution_count": null,
      "outputs": [
        {
          "output_type": "stream",
          "name": "stdout",
          "text": [
            "Random Forest Regression: \n",
            "\n",
            "r squared of 10-folds: [0.99683486 0.99615675 0.99661312 0.99730976 0.9964027  0.99738839\n",
            " 0.99747235 0.99720729 0.99710974 0.99698279] (mean r squared: 0.9969477753117477 )\n"
          ]
        }
      ]
    },
    {
      "cell_type": "code",
      "source": [
        "neg_mse_model_7_cv = cross_val_score(randomforest_regressor, train_data[['S','K','tau','r']], train_data['Value'],cv=kfolds_regresssion,scoring = 'neg_mean_squared_error')\n",
        "\n",
        "print(\"Random Forest Regression: \\n\")\n",
        "print(\"mean_squared_error of 10-folds:\",-neg_mse_model_7_cv,\"(mean MSE:\",-np.mean(neg_mse_model_7_cv),\")\")"
      ],
      "metadata": {
        "colab": {
          "base_uri": "https://localhost:8080/"
        },
        "id": "cX-zIMvgA7kx",
        "outputId": "31328dc7-94a4-44fd-9be3-2310b148437a"
      },
      "execution_count": null,
      "outputs": [
        {
          "output_type": "stream",
          "name": "stdout",
          "text": [
            "Random Forest Regression: \n",
            "\n",
            "mean_squared_error of 10-folds: [44.11255224 57.82884866 55.51082589 47.77572739 54.58738459 41.7812462\n",
            " 45.20719666 42.4486057  44.3700175  40.70082917] (mean MSE: 47.43232339939453 )\n"
          ]
        }
      ]
    },
    {
      "cell_type": "code",
      "source": [
        "randomforest_regressor.fit(X_train, y_train)\n",
        "\n",
        "# Predict and evaluate\n",
        "y_pred_reg = randomforest_regressor.predict(test_data)\n",
        "len(y_pred_reg)"
      ],
      "metadata": {
        "colab": {
          "base_uri": "https://localhost:8080/"
        },
        "id": "xoOUfdexnI6U",
        "outputId": "75de53a8-9817-4002-ded5-e14b12392bf1"
      },
      "execution_count": null,
      "outputs": [
        {
          "output_type": "execute_result",
          "data": {
            "text/plain": [
              "500"
            ]
          },
          "metadata": {},
          "execution_count": 14
        }
      ]
    },
    {
      "cell_type": "markdown",
      "source": [
        "**Cross Validation for Logistics Regression**"
      ],
      "metadata": {
        "id": "WzMAcl8P0jMA"
      }
    },
    {
      "cell_type": "code",
      "source": [
        "from sklearn.model_selection import StratifiedKFold\n",
        "import statsmodels.formula.api as smf\n",
        "from sklearn.linear_model import LogisticRegression"
      ],
      "metadata": {
        "id": "OEuLIrPx0qEW"
      },
      "execution_count": null,
      "outputs": []
    },
    {
      "cell_type": "code",
      "source": [
        "kfold_classification = StratifiedKFold(n_splits=10, random_state=0, shuffle=True)"
      ],
      "metadata": {
        "id": "_gbH-3eN18r7"
      },
      "execution_count": null,
      "outputs": []
    },
    {
      "cell_type": "code",
      "source": [
        "logistic_model = LogisticRegression (penalty=None, max_iter = 10000)"
      ],
      "metadata": {
        "id": "2hHUGk_e1Dvk"
      },
      "execution_count": null,
      "outputs": []
    },
    {
      "cell_type": "code",
      "source": [
        "error_model_1_cv = cross_val_score(logistic_model, train_data[['S','K','tau','r']], train_data['Over'], cv=kfold_classification)\n",
        "\n",
        "print(\"Logistic Regression: \\n\")\n",
        "print(\"accuracies of 10-folds:\",error_model_1_cv, \"(mean classification error:\",1-np.mean(error_model_1_cv),\")\")"
      ],
      "metadata": {
        "colab": {
          "base_uri": "https://localhost:8080/"
        },
        "id": "htFHbghI2tfA",
        "outputId": "d830de90-84ad-498f-9c51-30b97a345a63"
      },
      "execution_count": null,
      "outputs": [
        {
          "output_type": "stream",
          "name": "stdout",
          "text": [
            "Logistic Regression: \n",
            "\n",
            "accuracies of 10-folds: [0.882 0.886 0.852 0.866 0.89  0.896 0.86  0.904 0.86  0.858] (mean classification error: 0.12460000000000004 )\n"
          ]
        }
      ]
    },
    {
      "cell_type": "markdown",
      "source": [
        "**Cross Validation for KNN Classification**"
      ],
      "metadata": {
        "id": "qW2pVmc34iLE"
      }
    },
    {
      "cell_type": "code",
      "source": [
        "from sklearn.neighbors import KNeighborsClassifier"
      ],
      "metadata": {
        "id": "mH6OUrRp4lot"
      },
      "execution_count": null,
      "outputs": []
    },
    {
      "cell_type": "code",
      "source": [
        "knn_classifier = KNeighborsClassifier(n_neighbors=5)"
      ],
      "metadata": {
        "id": "XbAH0Clp46mJ",
        "colab": {
          "base_uri": "https://localhost:8080/",
          "height": 144
        },
        "outputId": "4a3051e9-e5ed-4743-c67b-bcb00753990c"
      },
      "execution_count": null,
      "outputs": [
        {
          "output_type": "error",
          "ename": "NameError",
          "evalue": "name 'KNeighborsClassifier' is not defined",
          "traceback": [
            "\u001b[0;31m---------------------------------------------------------------------------\u001b[0m",
            "\u001b[0;31mNameError\u001b[0m                                 Traceback (most recent call last)",
            "\u001b[0;32m<ipython-input-16-9622c6a24f24>\u001b[0m in \u001b[0;36m<cell line: 1>\u001b[0;34m()\u001b[0m\n\u001b[0;32m----> 1\u001b[0;31m \u001b[0mknn_classifier\u001b[0m \u001b[0;34m=\u001b[0m \u001b[0mKNeighborsClassifier\u001b[0m\u001b[0;34m(\u001b[0m\u001b[0mn_neighbors\u001b[0m\u001b[0;34m=\u001b[0m\u001b[0;36m5\u001b[0m\u001b[0;34m)\u001b[0m\u001b[0;34m\u001b[0m\u001b[0;34m\u001b[0m\u001b[0m\n\u001b[0m",
            "\u001b[0;31mNameError\u001b[0m: name 'KNeighborsClassifier' is not defined"
          ]
        }
      ]
    },
    {
      "cell_type": "code",
      "source": [
        "error_model_2_cv = cross_val_score(knn_classifier, train_data[['S','K','tau','r']], train_data['Over'], cv=kfold_classification)\n",
        "\n",
        "print(\"KNN Classification: \\n\")\n",
        "print(\"accuracies of 10-folds:\",error_model_2_cv, \"(mean classification error:\",1-np.mean(error_model_2_cv),\")\")"
      ],
      "metadata": {
        "colab": {
          "base_uri": "https://localhost:8080/"
        },
        "id": "mNuMXisW4-Wb",
        "outputId": "f83db5e5-cc28-4ceb-fcd2-3597317d7b83"
      },
      "execution_count": null,
      "outputs": [
        {
          "output_type": "stream",
          "name": "stdout",
          "text": [
            "KNN Classification: \n",
            "\n",
            "accuracies of 10-folds: [0.842 0.878 0.856 0.86  0.85  0.892 0.85  0.868 0.842 0.852] (mean classification error: 0.14100000000000001 )\n"
          ]
        }
      ]
    },
    {
      "cell_type": "markdown",
      "source": [
        "**Cross Validation for Decision Tree - Classification**"
      ],
      "metadata": {
        "id": "YNTdyxDc5QyZ"
      }
    },
    {
      "cell_type": "code",
      "source": [
        "from sklearn.tree import DecisionTreeClassifier\n",
        "from sklearn.metrics import accuracy_score"
      ],
      "metadata": {
        "id": "qJOpUgdz5VRv"
      },
      "execution_count": null,
      "outputs": []
    },
    {
      "cell_type": "code",
      "source": [
        "y_train_class = train_data['Over']"
      ],
      "metadata": {
        "id": "A6llFr6R54gU"
      },
      "execution_count": null,
      "outputs": []
    },
    {
      "cell_type": "code",
      "source": [
        "tree_classifier = DecisionTreeClassifier(random_state=0)"
      ],
      "metadata": {
        "id": "IUrKoIrz5pd7"
      },
      "execution_count": null,
      "outputs": []
    },
    {
      "cell_type": "code",
      "source": [
        "tree_classifier.fit(X_train, y_train_class)\n",
        "\n",
        "path = tree_classifier.cost_complexity_pruning_path(X_train, y_train_class)\n",
        "ccp_alphas = path.ccp_alphas"
      ],
      "metadata": {
        "id": "Fb0QDfWf5sbM"
      },
      "execution_count": null,
      "outputs": []
    },
    {
      "cell_type": "code",
      "source": [
        "len(ccp_alphas)"
      ],
      "metadata": {
        "colab": {
          "base_uri": "https://localhost:8080/"
        },
        "id": "s1mReIwQ6CZp",
        "outputId": "467548ce-555f-48b9-b55c-a9985d2cdcbf"
      },
      "execution_count": null,
      "outputs": [
        {
          "output_type": "execute_result",
          "data": {
            "text/plain": [
              "204"
            ]
          },
          "metadata": {},
          "execution_count": 177
        }
      ]
    },
    {
      "cell_type": "code",
      "source": [
        "accuracies = []\n",
        "for ccp_alpha in ccp_alphas:\n",
        "    score_for_alpha = []\n",
        "    for train_index, test_index in kfold_classification.split(X_train, y_train_class):\n",
        "        clf = DecisionTreeClassifier(random_state=0, ccp_alpha=ccp_alpha)\n",
        "        clf.fit(X_train.iloc[train_index], y_train_class.iloc[train_index])\n",
        "        y_pred = clf.predict(X_train.iloc[test_index])\n",
        "        score = accuracy_score(y_pred, y_train_class.iloc[test_index])\n",
        "        score_for_alpha.append(score)\n",
        "    accuracies.append(sum(score_for_alpha)/len(score_for_alpha))"
      ],
      "metadata": {
        "id": "IujtHBHA6INu"
      },
      "execution_count": null,
      "outputs": []
    },
    {
      "cell_type": "code",
      "source": [
        "print(\"The accuracies: \",accuracies)\n",
        "print(\"\\nThe index corresponding to the maximum of the accuracies: \", np.argmax(accuracies))"
      ],
      "metadata": {
        "colab": {
          "base_uri": "https://localhost:8080/"
        },
        "id": "8c8I557w6lFK",
        "outputId": "cac4fd67-57cc-4e29-adb3-e2ff83e79871"
      },
      "execution_count": null,
      "outputs": [
        {
          "output_type": "stream",
          "name": "stdout",
          "text": [
            "The accuracies:  [0.9208000000000001, 0.9208000000000001, 0.9206, 0.9206, 0.9218, 0.9219999999999999, 0.9219999999999999, 0.9219999999999999, 0.9221999999999998, 0.9221999999999998, 0.9221999999999998, 0.9221999999999998, 0.9221999999999998, 0.9221999999999998, 0.9221999999999998, 0.9221999999999998, 0.9221999999999998, 0.9221999999999998, 0.9227999999999998, 0.9231999999999998, 0.9236000000000001, 0.9236000000000001, 0.9236000000000001, 0.9236000000000001, 0.9236000000000001, 0.9238000000000002, 0.9238000000000002, 0.9238000000000002, 0.9238000000000002, 0.9238000000000002, 0.9238000000000002, 0.9234, 0.9234, 0.9234, 0.9234, 0.9234, 0.9234, 0.9234, 0.9234, 0.9234, 0.9234, 0.9234, 0.9234, 0.9234, 0.9234, 0.9236000000000001, 0.924, 0.9238000000000002, 0.9238000000000002, 0.9228, 0.9228, 0.9231999999999999, 0.9231999999999999, 0.9231999999999999, 0.9231999999999999, 0.9225999999999999, 0.9228, 0.9228, 0.9228, 0.9228, 0.9228, 0.9231999999999999, 0.9232000000000001, 0.9232000000000001, 0.9226000000000001, 0.9226000000000001, 0.9226000000000001, 0.922, 0.9214, 0.921, 0.9214000000000002, 0.9208000000000002, 0.921, 0.9208000000000001, 0.9208000000000001, 0.9208000000000001, 0.9208000000000001, 0.9208000000000001, 0.9208000000000001, 0.9204000000000001, 0.9203999999999999, 0.9203999999999999, 0.9200000000000002, 0.9200000000000002, 0.9198000000000001, 0.9196, 0.9178000000000001, 0.9178000000000001, 0.9178000000000001, 0.9178000000000001, 0.9178000000000001, 0.9174000000000001, 0.916, 0.9174000000000001, 0.9176000000000002, 0.9176000000000002, 0.9161999999999999, 0.9164, 0.9161999999999999, 0.9158, 0.9158, 0.9158, 0.9162000000000001, 0.9154, 0.915, 0.915, 0.915, 0.9154, 0.9154, 0.9154, 0.9154, 0.9154, 0.9155999999999999, 0.9156000000000001, 0.9156000000000001, 0.915, 0.9138000000000002, 0.9138000000000002, 0.9138000000000002, 0.9136000000000001, 0.9126000000000001, 0.9124000000000002, 0.9124000000000002, 0.9124000000000002, 0.9124000000000002, 0.9122, 0.9122, 0.9120000000000001, 0.9118, 0.9118, 0.9118, 0.9118, 0.9118, 0.9116, 0.9113999999999999, 0.9112, 0.9113999999999999, 0.9113999999999999, 0.9112, 0.9112, 0.9116, 0.9106, 0.9104000000000001, 0.9100000000000001, 0.9118000000000002, 0.9128000000000001, 0.9128000000000001, 0.9117999999999998, 0.9117999999999998, 0.9119999999999999, 0.9116, 0.9102, 0.9104000000000001, 0.9104000000000001, 0.9104000000000001, 0.9104000000000001, 0.9102, 0.9094, 0.9094000000000001, 0.9098, 0.9096, 0.9092, 0.9086000000000001, 0.9056, 0.9048, 0.9046000000000001, 0.9046000000000001, 0.9052000000000001, 0.9048, 0.9048, 0.9039999999999999, 0.9038, 0.9036, 0.9036000000000002, 0.8994, 0.898, 0.8968000000000002, 0.8968000000000002, 0.8962, 0.8924, 0.8924, 0.8924, 0.8912000000000001, 0.8907999999999999, 0.8907999999999999, 0.8892000000000001, 0.8892000000000001, 0.8898000000000001, 0.8894, 0.8893999999999999, 0.8914, 0.8912000000000001, 0.8886000000000001, 0.8884000000000001, 0.8880000000000001, 0.8876, 0.8869999999999999, 0.8842000000000001, 0.8844000000000001, 0.8844000000000001, 0.8844000000000001, 0.8758000000000001, 0.8552, 0.7978]\n",
            "\n",
            "The index corresponding to the maximum of the accuracies:  46\n"
          ]
        }
      ]
    },
    {
      "cell_type": "code",
      "source": [
        "alpha_cv_DT = ccp_alphas[np.argmax(accuracies)]\n",
        "alpha_cv_DT"
      ],
      "metadata": {
        "colab": {
          "base_uri": "https://localhost:8080/"
        },
        "id": "pUUYMUjv7RR8",
        "outputId": "6cd4e237-3072-46ef-8370-0c0588750989"
      },
      "execution_count": null,
      "outputs": [
        {
          "output_type": "execute_result",
          "data": {
            "text/plain": [
              "0.00017777777777777776"
            ]
          },
          "metadata": {},
          "execution_count": 180
        }
      ]
    },
    {
      "cell_type": "code",
      "source": [
        "clf_tree_final = DecisionTreeClassifier(random_state=0, ccp_alpha=alpha_cv_DT)"
      ],
      "metadata": {
        "id": "aVWzgotZ75AC"
      },
      "execution_count": null,
      "outputs": []
    },
    {
      "cell_type": "code",
      "source": [
        "error_model_3_cv = cross_val_score(clf_tree_final, train_data[['S','K','tau','r']], train_data['Over'], cv=kfold_classification)\n",
        "\n",
        "print(\"Decision Tree Classification: \\n\")\n",
        "print(\"accuracies of 10-folds:\",error_model_3_cv, \"(mean classification error:\",1-np.mean(error_model_3_cv),\")\")"
      ],
      "metadata": {
        "colab": {
          "base_uri": "https://localhost:8080/"
        },
        "id": "IXUX45xi7tyi",
        "outputId": "18417978-6379-45db-ac92-b79d607a1eba"
      },
      "execution_count": null,
      "outputs": [
        {
          "output_type": "stream",
          "name": "stdout",
          "text": [
            "Decision Tree Classification: \n",
            "\n",
            "accuracies of 10-folds: [0.9   0.916 0.928 0.932 0.936 0.942 0.946 0.904 0.914 0.922] (mean classification error: 0.07599999999999996 )\n"
          ]
        }
      ]
    },
    {
      "cell_type": "markdown",
      "source": [
        "**Cross Validation for Random Forest - Classification**"
      ],
      "metadata": {
        "id": "tVoVYmg8PGrQ"
      }
    },
    {
      "cell_type": "code",
      "source": [
        "from sklearn.ensemble import RandomForestClassifier"
      ],
      "metadata": {
        "id": "dzkCBAOYPWuv"
      },
      "execution_count": null,
      "outputs": []
    },
    {
      "cell_type": "code",
      "source": [
        "randomforest_clf = RandomForestClassifier(n_estimators=100, random_state= 0)\n",
        "error_model_4_cv = cross_val_score(randomforest_clf, train_data[['S','K','tau','r']], train_data['Over'], cv=kfold_classification)\n",
        "\n",
        "print(\"Random Forest Classification: \\n\")\n",
        "print(\"accuracies of 10-folds:\",error_model_4_cv, \"(mean classification error:\",1-np.mean(error_model_4_cv),\")\")"
      ],
      "metadata": {
        "colab": {
          "base_uri": "https://localhost:8080/"
        },
        "id": "vChVRlihPR-a",
        "outputId": "52f2a2e8-fa7f-4727-88b5-ad60fa5160cc"
      },
      "execution_count": null,
      "outputs": [
        {
          "output_type": "stream",
          "name": "stdout",
          "text": [
            "Random Forest Classification: \n",
            "\n",
            "accuracies of 10-folds: [0.924 0.936 0.948 0.938 0.938 0.948 0.954 0.91  0.928 0.944] (mean classification error: 0.06319999999999981 )\n"
          ]
        }
      ]
    },
    {
      "cell_type": "markdown",
      "source": [
        "**Cross Validation for SVC**"
      ],
      "metadata": {
        "id": "EQwzSSG5QqZP"
      }
    },
    {
      "cell_type": "code",
      "source": [
        "from sklearn.svm import SVC"
      ],
      "metadata": {
        "id": "c8kG2yZzQ1Fj"
      },
      "execution_count": null,
      "outputs": []
    },
    {
      "cell_type": "code",
      "source": [
        "svc = SVC(kernel='linear')\n",
        "\n",
        "error_model_5_cv = cross_val_score(svc, train_data[['S','K','tau','r']], train_data['BS'], cv=kfold_classification)\n",
        "\n",
        "print(\"SVC: \\n\")\n",
        "print(\"accuracies of 10-folds:\",error_model_5_cv, \"(mean classification error:\",1-np.mean(error_model_5_cv),\")\")"
      ],
      "metadata": {
        "colab": {
          "base_uri": "https://localhost:8080/"
        },
        "id": "za6uxdBTQwN1",
        "outputId": "5cd567f9-3815-4903-8a09-e9314f9e8bb5"
      },
      "execution_count": null,
      "outputs": [
        {
          "output_type": "stream",
          "name": "stdout",
          "text": [
            "SVC: \n",
            "\n",
            "accuracies of 10-folds: [0.878 0.886 0.886 0.884 0.88  0.916 0.868 0.882 0.872 0.868] (mean classification error: 0.118 )\n"
          ]
        }
      ]
    },
    {
      "cell_type": "markdown",
      "source": [
        "**Cross Validation for Neural Network**"
      ],
      "metadata": {
        "id": "R43lakQdU41O"
      }
    },
    {
      "cell_type": "code",
      "source": [
        "import tensorflow as tf\n",
        "from tensorflow import keras"
      ],
      "metadata": {
        "id": "ftOzXGR-U6_m"
      },
      "execution_count": null,
      "outputs": []
    },
    {
      "cell_type": "code",
      "source": [
        "#normalize independent variables\n",
        "from sklearn.preprocessing import MinMaxScaler\n",
        "\n",
        "mms = MinMaxScaler()\n",
        "train_data['SNorm'] = mms.fit_transform(train_data[['S']])\n",
        "train_data['KNorm'] = mms.fit_transform(train_data[['K']])\n",
        "train_data['tauNorm'] = mms.fit_transform(train_data[['tau']])\n",
        "train_data['rNorm'] = mms.fit_transform(train_data[['r']])"
      ],
      "metadata": {
        "id": "JpzeEzUCVBxL"
      },
      "execution_count": null,
      "outputs": []
    },
    {
      "cell_type": "code",
      "source": [
        "train_data.head()"
      ],
      "metadata": {
        "colab": {
          "base_uri": "https://localhost:8080/",
          "height": 206
        },
        "id": "rVvART3OVXfx",
        "outputId": "39911202-8fdc-4304-9bc8-d3a17c09d600"
      },
      "execution_count": null,
      "outputs": [
        {
          "output_type": "execute_result",
          "data": {
            "text/plain": [
              "     Value        S     K       tau       r     BS  Over     SNorm     KNorm  \\\n",
              "1  348.500  1394.46  1050  0.128767  0.0116  Under     0  0.493758  0.240964   \n",
              "2  149.375  1432.25  1400  0.679452  0.0113  Under     0  0.637599  0.522088   \n",
              "3  294.500  1478.90  1225  0.443836  0.0112  Under     0  0.815164  0.381526   \n",
              "4    3.375  1369.89  1500  0.117808  0.0119   Over     1  0.400236  0.602410   \n",
              "5   84.000  1366.42  1350  0.298630  0.0119  Under     0  0.387028  0.481928   \n",
              "\n",
              "    tauNorm     rNorm  \n",
              "1  0.048485  0.434783  \n",
              "2  0.657576  0.304348  \n",
              "3  0.396970  0.260870  \n",
              "4  0.036364  0.565217  \n",
              "5  0.236364  0.565217  "
            ],
            "text/html": [
              "\n",
              "  <div id=\"df-7c2d4ebf-e89e-4eb6-be24-538a5d92af84\" class=\"colab-df-container\">\n",
              "    <div>\n",
              "<style scoped>\n",
              "    .dataframe tbody tr th:only-of-type {\n",
              "        vertical-align: middle;\n",
              "    }\n",
              "\n",
              "    .dataframe tbody tr th {\n",
              "        vertical-align: top;\n",
              "    }\n",
              "\n",
              "    .dataframe thead th {\n",
              "        text-align: right;\n",
              "    }\n",
              "</style>\n",
              "<table border=\"1\" class=\"dataframe\">\n",
              "  <thead>\n",
              "    <tr style=\"text-align: right;\">\n",
              "      <th></th>\n",
              "      <th>Value</th>\n",
              "      <th>S</th>\n",
              "      <th>K</th>\n",
              "      <th>tau</th>\n",
              "      <th>r</th>\n",
              "      <th>BS</th>\n",
              "      <th>Over</th>\n",
              "      <th>SNorm</th>\n",
              "      <th>KNorm</th>\n",
              "      <th>tauNorm</th>\n",
              "      <th>rNorm</th>\n",
              "    </tr>\n",
              "  </thead>\n",
              "  <tbody>\n",
              "    <tr>\n",
              "      <th>1</th>\n",
              "      <td>348.500</td>\n",
              "      <td>1394.46</td>\n",
              "      <td>1050</td>\n",
              "      <td>0.128767</td>\n",
              "      <td>0.0116</td>\n",
              "      <td>Under</td>\n",
              "      <td>0</td>\n",
              "      <td>0.493758</td>\n",
              "      <td>0.240964</td>\n",
              "      <td>0.048485</td>\n",
              "      <td>0.434783</td>\n",
              "    </tr>\n",
              "    <tr>\n",
              "      <th>2</th>\n",
              "      <td>149.375</td>\n",
              "      <td>1432.25</td>\n",
              "      <td>1400</td>\n",
              "      <td>0.679452</td>\n",
              "      <td>0.0113</td>\n",
              "      <td>Under</td>\n",
              "      <td>0</td>\n",
              "      <td>0.637599</td>\n",
              "      <td>0.522088</td>\n",
              "      <td>0.657576</td>\n",
              "      <td>0.304348</td>\n",
              "    </tr>\n",
              "    <tr>\n",
              "      <th>3</th>\n",
              "      <td>294.500</td>\n",
              "      <td>1478.90</td>\n",
              "      <td>1225</td>\n",
              "      <td>0.443836</td>\n",
              "      <td>0.0112</td>\n",
              "      <td>Under</td>\n",
              "      <td>0</td>\n",
              "      <td>0.815164</td>\n",
              "      <td>0.381526</td>\n",
              "      <td>0.396970</td>\n",
              "      <td>0.260870</td>\n",
              "    </tr>\n",
              "    <tr>\n",
              "      <th>4</th>\n",
              "      <td>3.375</td>\n",
              "      <td>1369.89</td>\n",
              "      <td>1500</td>\n",
              "      <td>0.117808</td>\n",
              "      <td>0.0119</td>\n",
              "      <td>Over</td>\n",
              "      <td>1</td>\n",
              "      <td>0.400236</td>\n",
              "      <td>0.602410</td>\n",
              "      <td>0.036364</td>\n",
              "      <td>0.565217</td>\n",
              "    </tr>\n",
              "    <tr>\n",
              "      <th>5</th>\n",
              "      <td>84.000</td>\n",
              "      <td>1366.42</td>\n",
              "      <td>1350</td>\n",
              "      <td>0.298630</td>\n",
              "      <td>0.0119</td>\n",
              "      <td>Under</td>\n",
              "      <td>0</td>\n",
              "      <td>0.387028</td>\n",
              "      <td>0.481928</td>\n",
              "      <td>0.236364</td>\n",
              "      <td>0.565217</td>\n",
              "    </tr>\n",
              "  </tbody>\n",
              "</table>\n",
              "</div>\n",
              "    <div class=\"colab-df-buttons\">\n",
              "\n",
              "  <div class=\"colab-df-container\">\n",
              "    <button class=\"colab-df-convert\" onclick=\"convertToInteractive('df-7c2d4ebf-e89e-4eb6-be24-538a5d92af84')\"\n",
              "            title=\"Convert this dataframe to an interactive table.\"\n",
              "            style=\"display:none;\">\n",
              "\n",
              "  <svg xmlns=\"http://www.w3.org/2000/svg\" height=\"24px\" viewBox=\"0 -960 960 960\">\n",
              "    <path d=\"M120-120v-720h720v720H120Zm60-500h600v-160H180v160Zm220 220h160v-160H400v160Zm0 220h160v-160H400v160ZM180-400h160v-160H180v160Zm440 0h160v-160H620v160ZM180-180h160v-160H180v160Zm440 0h160v-160H620v160Z\"/>\n",
              "  </svg>\n",
              "    </button>\n",
              "\n",
              "  <style>\n",
              "    .colab-df-container {\n",
              "      display:flex;\n",
              "      gap: 12px;\n",
              "    }\n",
              "\n",
              "    .colab-df-convert {\n",
              "      background-color: #E8F0FE;\n",
              "      border: none;\n",
              "      border-radius: 50%;\n",
              "      cursor: pointer;\n",
              "      display: none;\n",
              "      fill: #1967D2;\n",
              "      height: 32px;\n",
              "      padding: 0 0 0 0;\n",
              "      width: 32px;\n",
              "    }\n",
              "\n",
              "    .colab-df-convert:hover {\n",
              "      background-color: #E2EBFA;\n",
              "      box-shadow: 0px 1px 2px rgba(60, 64, 67, 0.3), 0px 1px 3px 1px rgba(60, 64, 67, 0.15);\n",
              "      fill: #174EA6;\n",
              "    }\n",
              "\n",
              "    .colab-df-buttons div {\n",
              "      margin-bottom: 4px;\n",
              "    }\n",
              "\n",
              "    [theme=dark] .colab-df-convert {\n",
              "      background-color: #3B4455;\n",
              "      fill: #D2E3FC;\n",
              "    }\n",
              "\n",
              "    [theme=dark] .colab-df-convert:hover {\n",
              "      background-color: #434B5C;\n",
              "      box-shadow: 0px 1px 3px 1px rgba(0, 0, 0, 0.15);\n",
              "      filter: drop-shadow(0px 1px 2px rgba(0, 0, 0, 0.3));\n",
              "      fill: #FFFFFF;\n",
              "    }\n",
              "  </style>\n",
              "\n",
              "    <script>\n",
              "      const buttonEl =\n",
              "        document.querySelector('#df-7c2d4ebf-e89e-4eb6-be24-538a5d92af84 button.colab-df-convert');\n",
              "      buttonEl.style.display =\n",
              "        google.colab.kernel.accessAllowed ? 'block' : 'none';\n",
              "\n",
              "      async function convertToInteractive(key) {\n",
              "        const element = document.querySelector('#df-7c2d4ebf-e89e-4eb6-be24-538a5d92af84');\n",
              "        const dataTable =\n",
              "          await google.colab.kernel.invokeFunction('convertToInteractive',\n",
              "                                                    [key], {});\n",
              "        if (!dataTable) return;\n",
              "\n",
              "        const docLinkHtml = 'Like what you see? Visit the ' +\n",
              "          '<a target=\"_blank\" href=https://colab.research.google.com/notebooks/data_table.ipynb>data table notebook</a>'\n",
              "          + ' to learn more about interactive tables.';\n",
              "        element.innerHTML = '';\n",
              "        dataTable['output_type'] = 'display_data';\n",
              "        await google.colab.output.renderOutput(dataTable, element);\n",
              "        const docLink = document.createElement('div');\n",
              "        docLink.innerHTML = docLinkHtml;\n",
              "        element.appendChild(docLink);\n",
              "      }\n",
              "    </script>\n",
              "  </div>\n",
              "\n",
              "\n",
              "<div id=\"df-67449c78-effa-4d83-b4aa-006e25150cbb\">\n",
              "  <button class=\"colab-df-quickchart\" onclick=\"quickchart('df-67449c78-effa-4d83-b4aa-006e25150cbb')\"\n",
              "            title=\"Suggest charts\"\n",
              "            style=\"display:none;\">\n",
              "\n",
              "<svg xmlns=\"http://www.w3.org/2000/svg\" height=\"24px\"viewBox=\"0 0 24 24\"\n",
              "     width=\"24px\">\n",
              "    <g>\n",
              "        <path d=\"M19 3H5c-1.1 0-2 .9-2 2v14c0 1.1.9 2 2 2h14c1.1 0 2-.9 2-2V5c0-1.1-.9-2-2-2zM9 17H7v-7h2v7zm4 0h-2V7h2v10zm4 0h-2v-4h2v4z\"/>\n",
              "    </g>\n",
              "</svg>\n",
              "  </button>\n",
              "\n",
              "<style>\n",
              "  .colab-df-quickchart {\n",
              "      --bg-color: #E8F0FE;\n",
              "      --fill-color: #1967D2;\n",
              "      --hover-bg-color: #E2EBFA;\n",
              "      --hover-fill-color: #174EA6;\n",
              "      --disabled-fill-color: #AAA;\n",
              "      --disabled-bg-color: #DDD;\n",
              "  }\n",
              "\n",
              "  [theme=dark] .colab-df-quickchart {\n",
              "      --bg-color: #3B4455;\n",
              "      --fill-color: #D2E3FC;\n",
              "      --hover-bg-color: #434B5C;\n",
              "      --hover-fill-color: #FFFFFF;\n",
              "      --disabled-bg-color: #3B4455;\n",
              "      --disabled-fill-color: #666;\n",
              "  }\n",
              "\n",
              "  .colab-df-quickchart {\n",
              "    background-color: var(--bg-color);\n",
              "    border: none;\n",
              "    border-radius: 50%;\n",
              "    cursor: pointer;\n",
              "    display: none;\n",
              "    fill: var(--fill-color);\n",
              "    height: 32px;\n",
              "    padding: 0;\n",
              "    width: 32px;\n",
              "  }\n",
              "\n",
              "  .colab-df-quickchart:hover {\n",
              "    background-color: var(--hover-bg-color);\n",
              "    box-shadow: 0 1px 2px rgba(60, 64, 67, 0.3), 0 1px 3px 1px rgba(60, 64, 67, 0.15);\n",
              "    fill: var(--button-hover-fill-color);\n",
              "  }\n",
              "\n",
              "  .colab-df-quickchart-complete:disabled,\n",
              "  .colab-df-quickchart-complete:disabled:hover {\n",
              "    background-color: var(--disabled-bg-color);\n",
              "    fill: var(--disabled-fill-color);\n",
              "    box-shadow: none;\n",
              "  }\n",
              "\n",
              "  .colab-df-spinner {\n",
              "    border: 2px solid var(--fill-color);\n",
              "    border-color: transparent;\n",
              "    border-bottom-color: var(--fill-color);\n",
              "    animation:\n",
              "      spin 1s steps(1) infinite;\n",
              "  }\n",
              "\n",
              "  @keyframes spin {\n",
              "    0% {\n",
              "      border-color: transparent;\n",
              "      border-bottom-color: var(--fill-color);\n",
              "      border-left-color: var(--fill-color);\n",
              "    }\n",
              "    20% {\n",
              "      border-color: transparent;\n",
              "      border-left-color: var(--fill-color);\n",
              "      border-top-color: var(--fill-color);\n",
              "    }\n",
              "    30% {\n",
              "      border-color: transparent;\n",
              "      border-left-color: var(--fill-color);\n",
              "      border-top-color: var(--fill-color);\n",
              "      border-right-color: var(--fill-color);\n",
              "    }\n",
              "    40% {\n",
              "      border-color: transparent;\n",
              "      border-right-color: var(--fill-color);\n",
              "      border-top-color: var(--fill-color);\n",
              "    }\n",
              "    60% {\n",
              "      border-color: transparent;\n",
              "      border-right-color: var(--fill-color);\n",
              "    }\n",
              "    80% {\n",
              "      border-color: transparent;\n",
              "      border-right-color: var(--fill-color);\n",
              "      border-bottom-color: var(--fill-color);\n",
              "    }\n",
              "    90% {\n",
              "      border-color: transparent;\n",
              "      border-bottom-color: var(--fill-color);\n",
              "    }\n",
              "  }\n",
              "</style>\n",
              "\n",
              "  <script>\n",
              "    async function quickchart(key) {\n",
              "      const quickchartButtonEl =\n",
              "        document.querySelector('#' + key + ' button');\n",
              "      quickchartButtonEl.disabled = true;  // To prevent multiple clicks.\n",
              "      quickchartButtonEl.classList.add('colab-df-spinner');\n",
              "      try {\n",
              "        const charts = await google.colab.kernel.invokeFunction(\n",
              "            'suggestCharts', [key], {});\n",
              "      } catch (error) {\n",
              "        console.error('Error during call to suggestCharts:', error);\n",
              "      }\n",
              "      quickchartButtonEl.classList.remove('colab-df-spinner');\n",
              "      quickchartButtonEl.classList.add('colab-df-quickchart-complete');\n",
              "    }\n",
              "    (() => {\n",
              "      let quickchartButtonEl =\n",
              "        document.querySelector('#df-67449c78-effa-4d83-b4aa-006e25150cbb button');\n",
              "      quickchartButtonEl.style.display =\n",
              "        google.colab.kernel.accessAllowed ? 'block' : 'none';\n",
              "    })();\n",
              "  </script>\n",
              "</div>\n",
              "    </div>\n",
              "  </div>\n"
            ],
            "application/vnd.google.colaboratory.intrinsic+json": {
              "type": "dataframe",
              "variable_name": "train_data",
              "summary": "{\n  \"name\": \"train_data\",\n  \"rows\": 5000,\n  \"fields\": [\n    {\n      \"column\": \"Value\",\n      \"properties\": {\n        \"dtype\": \"number\",\n        \"std\": 125.15500007326867,\n        \"min\": 0.28125,\n        \"max\": 685.5,\n        \"num_unique_values\": 2001,\n        \"samples\": [\n          229.125,\n          86.0,\n          347.375\n        ],\n        \"semantic_type\": \"\",\n        \"description\": \"\"\n      }\n    },\n    {\n      \"column\": \"S\",\n      \"properties\": {\n        \"dtype\": \"number\",\n        \"std\": 56.05152255114043,\n        \"min\": 1264.74,\n        \"max\": 1527.46,\n        \"num_unique_values\": 250,\n        \"samples\": [\n          1455.14,\n          1445.57,\n          1400.14\n        ],\n        \"semantic_type\": \"\",\n        \"description\": \"\"\n      }\n    },\n    {\n      \"column\": \"K\",\n      \"properties\": {\n        \"dtype\": \"number\",\n        \"std\": 172,\n        \"min\": 750,\n        \"max\": 1995,\n        \"num_unique_values\": 73,\n        \"samples\": [\n          1350,\n          1360,\n          1550\n        ],\n        \"semantic_type\": \"\",\n        \"description\": \"\"\n      }\n    },\n    {\n      \"column\": \"tau\",\n      \"properties\": {\n        \"dtype\": \"number\",\n        \"std\": 0.23118440981502342,\n        \"min\": 0.0849315068493151,\n        \"max\": 0.989041095890411,\n        \"num_unique_values\": 237,\n        \"samples\": [\n          0.931506849315068,\n          0.175342465753425,\n          0.654794520547945\n        ],\n        \"semantic_type\": \"\",\n        \"description\": \"\"\n      }\n    },\n    {\n      \"column\": \"r\",\n      \"properties\": {\n        \"dtype\": \"number\",\n        \"std\": 0.0004483820349767127,\n        \"min\": 0.0106,\n        \"max\": 0.0129,\n        \"num_unique_values\": 22,\n        \"samples\": [\n          0.0116,\n          0.0118,\n          0.0109\n        ],\n        \"semantic_type\": \"\",\n        \"description\": \"\"\n      }\n    },\n    {\n      \"column\": \"BS\",\n      \"properties\": {\n        \"dtype\": \"category\",\n        \"num_unique_values\": 2,\n        \"samples\": [\n          \"Over\",\n          \"Under\"\n        ],\n        \"semantic_type\": \"\",\n        \"description\": \"\"\n      }\n    },\n    {\n      \"column\": \"Over\",\n      \"properties\": {\n        \"dtype\": \"number\",\n        \"std\": 0,\n        \"min\": 0,\n        \"max\": 1,\n        \"num_unique_values\": 2,\n        \"samples\": [\n          1,\n          0\n        ],\n        \"semantic_type\": \"\",\n        \"description\": \"\"\n      }\n    },\n    {\n      \"column\": \"SNorm\",\n      \"properties\": {\n        \"dtype\": \"number\",\n        \"std\": 0.21335080142790966,\n        \"min\": 0.0,\n        \"max\": 1.0,\n        \"num_unique_values\": 250,\n        \"samples\": [\n          0.7247259439707676,\n          0.6882993300852611\n        ],\n        \"semantic_type\": \"\",\n        \"description\": \"\"\n      }\n    },\n    {\n      \"column\": \"KNorm\",\n      \"properties\": {\n        \"dtype\": \"number\",\n        \"std\": 0.1386980781081676,\n        \"min\": 0.0,\n        \"max\": 1.0,\n        \"num_unique_values\": 73,\n        \"samples\": [\n          0.4819277108433734,\n          0.4899598393574297\n        ],\n        \"semantic_type\": \"\",\n        \"description\": \"\"\n      }\n    },\n    {\n      \"column\": \"tauNorm\",\n      \"properties\": {\n        \"dtype\": \"number\",\n        \"std\": 0.25570396843176824,\n        \"min\": 0.0,\n        \"max\": 1.0,\n        \"num_unique_values\": 237,\n        \"samples\": [\n          0.9363636363636356,\n          0.10000000000000034\n        ],\n        \"semantic_type\": \"\",\n        \"description\": \"\"\n      }\n    },\n    {\n      \"column\": \"rNorm\",\n      \"properties\": {\n        \"dtype\": \"number\",\n        \"std\": 0.19494871085944038,\n        \"min\": 0.0,\n        \"max\": 1.0,\n        \"num_unique_values\": 22,\n        \"samples\": [\n          0.43478260869565233,\n          0.5217391304347823\n        ],\n        \"semantic_type\": \"\",\n        \"description\": \"\"\n      }\n    }\n  ]\n}"
            }
          },
          "metadata": {},
          "execution_count": 189
        }
      ]
    },
    {
      "cell_type": "code",
      "source": [
        "train_data.columns.get_loc('SNorm')"
      ],
      "metadata": {
        "colab": {
          "base_uri": "https://localhost:8080/"
        },
        "id": "jAU9tj9iVaPS",
        "outputId": "c06f9aeb-9f4b-409e-c76e-cbe497bb3b4d"
      },
      "execution_count": null,
      "outputs": [
        {
          "output_type": "execute_result",
          "data": {
            "text/plain": [
              "7"
            ]
          },
          "metadata": {},
          "execution_count": 190
        }
      ]
    },
    {
      "cell_type": "code",
      "source": [
        "datanparray = train_data.values"
      ],
      "metadata": {
        "id": "KXZD2eksVjjT"
      },
      "execution_count": null,
      "outputs": []
    },
    {
      "cell_type": "code",
      "source": [
        "# Define independent variables,\n",
        "TrainData   = datanparray[:, [7,8,9,10]]\n",
        "# Define dependent variable\n",
        "TrainLabels = datanparray[:, [6]]"
      ],
      "metadata": {
        "id": "OtwAVcKBVmOy"
      },
      "execution_count": null,
      "outputs": []
    },
    {
      "cell_type": "code",
      "source": [
        "TrainDataFloat = TrainData.astype(float)\n",
        "TrainDataFloat"
      ],
      "metadata": {
        "colab": {
          "base_uri": "https://localhost:8080/"
        },
        "id": "V9GmwImUWr6h",
        "outputId": "4e40ffdc-745f-4ac4-d023-f4dfd24f8dab"
      },
      "execution_count": null,
      "outputs": [
        {
          "output_type": "execute_result",
          "data": {
            "text/plain": [
              "array([[0.49375761, 0.24096386, 0.04848485, 0.43478261],\n",
              "       [0.63759896, 0.52208835, 0.65757576, 0.30434783],\n",
              "       [0.81516443, 0.3815261 , 0.3969697 , 0.26086957],\n",
              "       ...,\n",
              "       [0.34949756, 0.60240964, 0.65151515, 0.60869565],\n",
              "       [0.26119062, 0.36144578, 0.24848485, 0.69565217],\n",
              "       [0.82266291, 0.58232932, 0.46363636, 0.2173913 ]])"
            ]
          },
          "metadata": {},
          "execution_count": 193
        }
      ]
    },
    {
      "cell_type": "code",
      "source": [
        "TrainLabelsInt = TrainLabels.astype(int)\n",
        "TrainLabelsInt"
      ],
      "metadata": {
        "colab": {
          "base_uri": "https://localhost:8080/"
        },
        "id": "TumA2B-1Wtba",
        "outputId": "0a40822e-c151-4323-e791-e449b6d36ab1"
      },
      "execution_count": null,
      "outputs": [
        {
          "output_type": "execute_result",
          "data": {
            "text/plain": [
              "array([[0],\n",
              "       [0],\n",
              "       [0],\n",
              "       ...,\n",
              "       [0],\n",
              "       [0],\n",
              "       [0]])"
            ]
          },
          "metadata": {},
          "execution_count": 194
        }
      ]
    },
    {
      "cell_type": "code",
      "source": [
        "print(\"TrainDataFloat shape:\", TrainDataFloat.shape)\n",
        "print(\"TrainLabelsInt shape:\", TrainLabelsInt.shape)\n",
        "print(\"TrainDataFloat dtype:\", TrainDataFloat.dtype)\n",
        "print(\"TrainLabelsInt dtype:\", TrainLabelsInt.dtype)"
      ],
      "metadata": {
        "colab": {
          "base_uri": "https://localhost:8080/"
        },
        "id": "4qDBndNbWutT",
        "outputId": "40489f42-1ee2-48dc-db89-14ddb460a840"
      },
      "execution_count": null,
      "outputs": [
        {
          "output_type": "stream",
          "name": "stdout",
          "text": [
            "TrainDataFloat shape: (5000, 4)\n",
            "TrainLabelsInt shape: (5000, 1)\n",
            "TrainDataFloat dtype: float64\n",
            "TrainLabelsInt dtype: int64\n"
          ]
        }
      ]
    },
    {
      "cell_type": "code",
      "source": [
        "neural_model = keras.Sequential([\n",
        "    keras.layers.Dense(12, activation=tf.nn.relu),\n",
        "    keras.layers.Dense(4, activation=tf.nn.relu),\n",
        "    keras.layers.Dense(2, activation=tf.nn.softmax)\n",
        "])"
      ],
      "metadata": {
        "id": "K5UzuHvqW0Ak"
      },
      "execution_count": null,
      "outputs": []
    },
    {
      "cell_type": "code",
      "source": [
        "neural_model.compile(\n",
        "              optimizer='adam',\n",
        "              loss='sparse_categorical_crossentropy',\n",
        "              metrics=['accuracy'])"
      ],
      "metadata": {
        "id": "7yYLbyc3W1qp"
      },
      "execution_count": null,
      "outputs": []
    },
    {
      "cell_type": "code",
      "source": [
        "neural_model.fit(TrainDataFloat, TrainLabelsInt, epochs=20)"
      ],
      "metadata": {
        "colab": {
          "base_uri": "https://localhost:8080/"
        },
        "id": "vacoHEqQW3X2",
        "outputId": "23284727-8f2a-470a-dfa1-87348c2b40ab"
      },
      "execution_count": null,
      "outputs": [
        {
          "output_type": "stream",
          "name": "stdout",
          "text": [
            "Epoch 1/20\n",
            "157/157 [==============================] - 1s 2ms/step - loss: 0.5736 - accuracy: 0.7604\n",
            "Epoch 2/20\n",
            "157/157 [==============================] - 0s 2ms/step - loss: 0.5067 - accuracy: 0.7736\n",
            "Epoch 3/20\n",
            "157/157 [==============================] - 0s 2ms/step - loss: 0.4674 - accuracy: 0.7736\n",
            "Epoch 4/20\n",
            "157/157 [==============================] - 1s 3ms/step - loss: 0.4258 - accuracy: 0.7760\n",
            "Epoch 5/20\n",
            "157/157 [==============================] - 1s 3ms/step - loss: 0.3784 - accuracy: 0.8054\n",
            "Epoch 6/20\n",
            "157/157 [==============================] - 0s 3ms/step - loss: 0.3349 - accuracy: 0.8418\n",
            "Epoch 7/20\n",
            "157/157 [==============================] - 0s 3ms/step - loss: 0.3037 - accuracy: 0.8650\n",
            "Epoch 8/20\n",
            "157/157 [==============================] - 1s 3ms/step - loss: 0.2849 - accuracy: 0.8734\n",
            "Epoch 9/20\n",
            "157/157 [==============================] - 1s 3ms/step - loss: 0.2705 - accuracy: 0.8802\n",
            "Epoch 10/20\n",
            "157/157 [==============================] - 0s 2ms/step - loss: 0.2635 - accuracy: 0.8826\n",
            "Epoch 11/20\n",
            "157/157 [==============================] - 0s 2ms/step - loss: 0.2560 - accuracy: 0.8868\n",
            "Epoch 12/20\n",
            "157/157 [==============================] - 0s 2ms/step - loss: 0.2513 - accuracy: 0.8878\n",
            "Epoch 13/20\n",
            "157/157 [==============================] - 0s 2ms/step - loss: 0.2489 - accuracy: 0.8928\n",
            "Epoch 14/20\n",
            "157/157 [==============================] - 0s 2ms/step - loss: 0.2475 - accuracy: 0.8906\n",
            "Epoch 15/20\n",
            "157/157 [==============================] - 0s 2ms/step - loss: 0.2457 - accuracy: 0.8922\n",
            "Epoch 16/20\n",
            "157/157 [==============================] - 0s 2ms/step - loss: 0.2439 - accuracy: 0.8940\n",
            "Epoch 17/20\n",
            "157/157 [==============================] - 0s 2ms/step - loss: 0.2430 - accuracy: 0.8926\n",
            "Epoch 18/20\n",
            "157/157 [==============================] - 0s 2ms/step - loss: 0.2434 - accuracy: 0.8914\n",
            "Epoch 19/20\n",
            "157/157 [==============================] - 0s 2ms/step - loss: 0.2424 - accuracy: 0.8924\n",
            "Epoch 20/20\n",
            "157/157 [==============================] - 0s 2ms/step - loss: 0.2403 - accuracy: 0.8946\n"
          ]
        },
        {
          "output_type": "execute_result",
          "data": {
            "text/plain": [
              "<keras.src.callbacks.History at 0x7c361d93efb0>"
            ]
          },
          "metadata": {},
          "execution_count": 198
        }
      ]
    },
    {
      "cell_type": "code",
      "source": [
        "train_loss, train_acc = neural_model.evaluate(TrainDataFloat, TrainLabelsInt)\n",
        "\n",
        "print('Train accuracy:', train_acc, 'Test error', 1-train_acc)"
      ],
      "metadata": {
        "colab": {
          "base_uri": "https://localhost:8080/"
        },
        "id": "xWAdyIqYXpt2",
        "outputId": "0ab9eef8-687b-4d58-eff6-a40236760092"
      },
      "execution_count": null,
      "outputs": [
        {
          "output_type": "stream",
          "name": "stdout",
          "text": [
            "157/157 [==============================] - 0s 2ms/step - loss: 0.2382 - accuracy: 0.8954\n",
            "Train accuracy: 0.8953999876976013 Test error 0.10460001230239868\n"
          ]
        }
      ]
    },
    {
      "cell_type": "markdown",
      "source": [
        "**Cross Validation for AdaBoost**"
      ],
      "metadata": {
        "id": "4XrbzwP1aPde"
      }
    },
    {
      "cell_type": "code",
      "source": [
        "from sklearn.ensemble import AdaBoostClassifier"
      ],
      "metadata": {
        "id": "8IuwzK-naRrl"
      },
      "execution_count": null,
      "outputs": []
    },
    {
      "cell_type": "code",
      "source": [
        "ada_clf = AdaBoostClassifier(\n",
        "    DecisionTreeClassifier(max_depth=1),\n",
        "    n_estimators=100,       # Number of models to iteratively train\n",
        "    algorithm=\"SAMME.R\",   # Algorithm to use, SAMME.R is a variant of SAMME\n",
        "    learning_rate=1.0      # Weight applied to each classifier at each boosting iteration\n",
        ")"
      ],
      "metadata": {
        "id": "yPv-50FWaSds"
      },
      "execution_count": null,
      "outputs": []
    },
    {
      "cell_type": "code",
      "source": [
        "error_model_6_cv = cross_val_score(ada_clf, train_data[['S','K','tau','r']], train_data['Over'], cv=kfold_classification)\n",
        "\n",
        "print(\"AdaBoost: \\n\")\n",
        "print(\"accuracies of 10-folds:\",error_model_6_cv, \"(mean classification error:\",1-np.mean(error_model_6_cv),\")\")"
      ],
      "metadata": {
        "colab": {
          "base_uri": "https://localhost:8080/"
        },
        "id": "VKrDlc4Zaabs",
        "outputId": "584e3171-cd40-477b-cef7-76ab84fd673a"
      },
      "execution_count": null,
      "outputs": [
        {
          "output_type": "stream",
          "name": "stdout",
          "text": [
            "AdaBoost: \n",
            "\n",
            "accuracies of 10-folds: [0.904 0.914 0.914 0.896 0.908 0.912 0.886 0.902 0.896 0.896] (mean classification error: 0.09719999999999973 )\n"
          ]
        }
      ]
    },
    {
      "cell_type": "markdown",
      "source": [
        "**Cross Validation for XGBoost**"
      ],
      "metadata": {
        "id": "Hwy4_UBVcG_T"
      }
    },
    {
      "cell_type": "code",
      "source": [
        "import xgboost as xgb"
      ],
      "metadata": {
        "id": "EYf9UgaJcOoH"
      },
      "execution_count": null,
      "outputs": []
    },
    {
      "cell_type": "code",
      "source": [
        "clf_xgb = xgb.XGBClassifier(objective='binary:logistic', random_state=0)"
      ],
      "metadata": {
        "id": "sss02pV-dpom"
      },
      "execution_count": null,
      "outputs": []
    },
    {
      "cell_type": "code",
      "source": [
        "error_model_7_cv = cross_val_score(clf_xgb, train_data[['S','K','tau','r']], train_data['Over'], cv=kfold_classification)\n",
        "\n",
        "print(\"XGBoost: \\n\")\n",
        "print(\"accuracies of 10-folds:\",error_model_7_cv, \"(mean classification error:\",1-np.mean(error_model_7_cv),\")\")"
      ],
      "metadata": {
        "colab": {
          "base_uri": "https://localhost:8080/"
        },
        "id": "p96_KCsYdObi",
        "outputId": "64196394-9cc6-4505-f5f2-13e18904722b"
      },
      "execution_count": null,
      "outputs": [
        {
          "output_type": "stream",
          "name": "stdout",
          "text": [
            "XGBoost: \n",
            "\n",
            "accuracies of 10-folds: [0.944 0.942 0.946 0.948 0.934 0.946 0.96  0.914 0.938 0.932] (mean classification error: 0.059599999999999986 )\n"
          ]
        }
      ]
    },
    {
      "cell_type": "code",
      "source": [
        "clf_xgb.fit(X_train, y_train_class)\n",
        "\n",
        "# Predict and evaluate\n",
        "y_pred = clf_xgb.predict(test_data)\n",
        "len(y_pred)"
      ],
      "metadata": {
        "colab": {
          "base_uri": "https://localhost:8080/"
        },
        "id": "2_spKeuekhwP",
        "outputId": "5f0cd16d-1391-4cea-e7ab-dd3f227aa58e"
      },
      "execution_count": null,
      "outputs": [
        {
          "output_type": "execute_result",
          "data": {
            "text/plain": [
              "500"
            ]
          },
          "metadata": {},
          "execution_count": 23
        }
      ]
    },
    {
      "cell_type": "code",
      "source": [
        "# Create data frame that contains predictions\n",
        "predictionsDF = pd.DataFrame({\n",
        "    'Value': y_pred_reg,\n",
        "    'BS': y_pred\n",
        "})\n",
        "\n",
        "# Create external file that contains the predictions\n",
        "predictionsDF.to_csv(\"group_27_prediction.csv\", encoding='utf-8', header=True, index=False)"
      ],
      "metadata": {
        "id": "2n_gXBiEoNla"
      },
      "execution_count": null,
      "outputs": []
    },
    {
      "cell_type": "markdown",
      "source": [
        "**Cross Validation for LightGBM**"
      ],
      "metadata": {
        "id": "pSmYOU3beWZo"
      }
    },
    {
      "cell_type": "code",
      "source": [
        "# import lightgbm as lgb\n",
        "# from lightgbm import LGBMClassifier"
      ],
      "metadata": {
        "id": "ebT1eBJQefVh"
      },
      "execution_count": null,
      "outputs": []
    },
    {
      "cell_type": "code",
      "source": [
        "# # Assuming 'data' is your DataFrame and you've split features and target\n",
        "# X = train_data[['S', 'K', 'tau', 'r']]  # feature columns\n",
        "# y = train_data['Over']  # target column\n",
        "\n",
        "\n",
        "# # Initialize the classifier\n",
        "# clf_lgbm = LGBMClassifier(boosting_type='gbdt', objective='binary', random_state=0)\n",
        "\n",
        "# # Perform cross-validation\n",
        "# error_model_8_cv = cross_val_score(clf_lgbm, X, y, cv=kfold_classification, scoring='accuracy')\n",
        "\n",
        "# # Output results\n",
        "# print(\"LightGBM: \\n\")\n",
        "# print(\"Accuracies of 10-folds:\", error_model_8_cv)\n",
        "# print(\"Mean classification error:\", 1 - np.mean(error_model_8_cv))"
      ],
      "metadata": {
        "id": "MAcKCjWyiuvg"
      },
      "execution_count": null,
      "outputs": []
    },
    {
      "cell_type": "code",
      "source": [
        "# data_train = lgb.Dataset(X_train, label=y_train_class)"
      ],
      "metadata": {
        "id": "Fwuu8z-1huni"
      },
      "execution_count": null,
      "outputs": []
    },
    {
      "cell_type": "code",
      "source": [
        "# params = {\n",
        "#     'boosting_type': 'gbdt',      # Gradient Boosting Decision Tree\n",
        "#     'objective': 'binary',        # Change to 'multiclass' if you have more than two classes, and set 'num_class'\n",
        "#     'metric': 'binary_logloss',   # Change to 'multi_logloss' if you have more than two classes\n",
        "#     'num_leaves': 31,             # Maximum tree leaves for base learners\n",
        "#     'learning_rate': 0.05,        # Learning rate\n",
        "#     'feature_fraction': 0.9,      # Fraction of features to be used at each iteration\n",
        "#     'bagging_fraction': 0.8,      # Fraction of data to be used for each iteration\n",
        "#     'bagging_freq': 5,            # Perform bagging every 5 iterations\n",
        "#     'verbose': 1                  # Verbose output\n",
        "# }\n",
        "\n",
        "# # Train the model\n",
        "# num_round = 100\n",
        "# bst = lgb.train(params, data_train, num_round)"
      ],
      "metadata": {
        "id": "Dq2jhmeQhlns"
      },
      "execution_count": null,
      "outputs": []
    },
    {
      "cell_type": "code",
      "source": [
        "# error_model_8_cv = lgb.cv(params,data_train, nfold=10)\n",
        "\n",
        "# print(\"LightGBM: \\n\")\n",
        "# print(\"accuracies of 10-folds:\",error_model_8_cv, \"(mean classification error:\",1-np.mean(error_model_8_cv),\")\")"
      ],
      "metadata": {
        "id": "ckGTK0R-erd_"
      },
      "execution_count": null,
      "outputs": []
    }
  ]
}